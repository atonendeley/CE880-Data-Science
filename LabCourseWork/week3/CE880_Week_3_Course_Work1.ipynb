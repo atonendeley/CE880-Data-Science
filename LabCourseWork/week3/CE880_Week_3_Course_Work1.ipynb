{
  "nbformat": 4,
  "nbformat_minor": 0,
  "metadata": {
    "kernelspec": {
      "display_name": "Python 3",
      "language": "python",
      "name": "python3"
    },
    "language_info": {
      "codemirror_mode": {
        "name": "ipython",
        "version": 3
      },
      "file_extension": ".py",
      "mimetype": "text/x-python",
      "name": "python",
      "nbconvert_exporter": "python",
      "pygments_lexer": "ipython3",
      "version": "3.7.3"
    },
    "colab": {
      "name": "CE880  Week 3 Course Work1.ipynb",
      "provenance": [],
      "collapsed_sections": [],
      "include_colab_link": true
    }
  },
  "cells": [
    {
      "cell_type": "markdown",
      "metadata": {
        "id": "view-in-github",
        "colab_type": "text"
      },
      "source": [
        "<a href=\"https://colab.research.google.com/github/atonendeley/CE880-Data-Science/blob/main/LabCourseWork/week3/CE880_Week_3_Course_Work1.ipynb\" target=\"_parent\"><img src=\"https://colab.research.google.com/assets/colab-badge.svg\" alt=\"Open In Colab\"/></a>"
      ]
    },
    {
      "cell_type": "markdown",
      "metadata": {
        "id": "YaggsWD0jKm0"
      },
      "source": [
        "Before you turn this problem in, make sure everything runs as expected. First, **restart the kernel** (in the menubar, select Kernel$\\rightarrow$Restart) and then **run all cells** (in the menubar, select Cell$\\rightarrow$Run All).\n",
        "\n",
        "Make sure you fill in any place that says `YOUR CODE HERE` or \"YOUR ANSWER HERE\", as well as your name and collaborators below:"
      ]
    },
    {
      "cell_type": "code",
      "metadata": {
        "id": "mz1uAEvFjKnE"
      },
      "source": [
        "NAME = \"Atonye Endeley\"\n",
        "COLLABORATORS = \"2103195\""
      ],
      "execution_count": null,
      "outputs": []
    },
    {
      "cell_type": "markdown",
      "metadata": {
        "id": "mDtJOTJ-jKnL"
      },
      "source": [
        "---"
      ]
    },
    {
      "cell_type": "markdown",
      "metadata": {
        "id": "4NdZVlN-jKnM"
      },
      "source": [
        "---\n",
        "# Welcome to CE880\n",
        "### This is your week-3 : Problem 1 notebook\n",
        "\n",
        "For this problem set, we'll be using the Jupyter notebook and please upload this notebook to [Google Colab](https://colab.research.google.com/). \n"
      ]
    },
    {
      "cell_type": "markdown",
      "metadata": {
        "id": "5JuygBbJjKnN"
      },
      "source": [
        "---\n",
        "## Question 1:\n",
        "\n",
        "Write a function to calculate the median  \n",
        "`Hint`: To find the median, you first need to sort the values in your sample. The `median` of a sample of numeric data is the value that lies in the middle when we sort the data. The data may be sorted in ascending or descending order, the median remains the same."
      ]
    },
    {
      "cell_type": "code",
      "metadata": {
        "deletable": false,
        "nbgrader": {
          "cell_type": "code",
          "checksum": "b555acd98fb05a491fc2efa720f3316c",
          "grade": false,
          "grade_id": "my_median_ans",
          "locked": false,
          "schema_version": 3,
          "solution": true
        },
        "id": "s6mTqbwKjKnO"
      },
      "source": [
        "def my_median(sample):\n",
        "\n",
        "   \"\"\"Function for calculating median\"\"\"\n",
        " # YOUR CODE HERE\n",
        "   n = len(sample)\n",
        "   index = n // 2\n",
        "    # Sample the odd number of observations\n",
        "   if n % 2:\n",
        "     return sorted(sample)[index]\n",
        "   # Sample the even number of observations\n",
        "   return sum(sorted(sample)[index - 1:index + 1]) / 2\n",
        "\n",
        "   raise NotImplementedError()"
      ],
      "execution_count": null,
      "outputs": []
    },
    {
      "cell_type": "code",
      "metadata": {
        "id": "vNDu9PHKjKnP",
        "colab": {
          "base_uri": "https://localhost:8080/"
        },
        "outputId": "c6ba72e3-ec2e-45c7-fd71-845a1299421f"
      },
      "source": [
        "my_median([3, 5, 1, 4, 2, 6])"
      ],
      "execution_count": null,
      "outputs": [
        {
          "output_type": "execute_result",
          "data": {
            "text/plain": [
              "3.5"
            ]
          },
          "metadata": {},
          "execution_count": 4
        }
      ]
    },
    {
      "cell_type": "code",
      "metadata": {
        "deletable": false,
        "editable": false,
        "nbgrader": {
          "cell_type": "code",
          "checksum": "f5fecf0641463d6c695663cba9a12d95",
          "grade": true,
          "grade_id": "my_median_test",
          "locked": false,
          "points": 1,
          "schema_version": 3,
          "solution": false
        },
        "id": "XTG-_BtnjKnU"
      },
      "source": [
        "\"\"\"Check your output\"\"\"\n",
        "# Test case 1\n",
        "assert my_median([3, 5, 1, 4, 2]) == 3\n",
        "assert my_median([1, 4, 2, 5, 0]) == 2\n",
        "assert my_median([1, 4, 2, 5, 0, 5, 6, 3, 5]) == 4\n",
        "assert my_median([3, 5, 1, 4, 2, 6]) == 3.5"
      ],
      "execution_count": null,
      "outputs": []
    },
    {
      "cell_type": "markdown",
      "metadata": {
        "id": "chFglNUujKnX"
      },
      "source": [
        "---\n",
        "\n",
        "## Question 2:\n",
        "\n",
        "Caluate Interquartile Range of the given list.\n",
        "\n",
        "`Please read me before attemping the question`\n",
        "A quartile is a type of quantile. The first quartile `(Q1)`, is defined as the middle number between the smallest number and the median of the data set, the second quartile `(Q2)` – median of the given data set while the third quartile `(Q3)`, is the middle number between the median and the largest value of the data set.\n",
        "\n",
        "Algorithm to find Quartiles :\n",
        "Quartiles are calculated by the help of the median. If the number of entries is an even number i.e. of the form 2n, then, first quartile `(Q1)` is equal to the median of the `n` smallest entries and the third quartile `(Q3)` is equal to the median of the `n` largest entries.\n",
        "\n",
        "If the number of entries is an odd number i.e. of the form `(2n + 1)`, then\n",
        "\n",
        "* the first quartile (Q1) is equal to the median of the n smallest entries\n",
        "* the third quartile (Q3) is equal to the median of the n largest entries\n",
        "* the second quartile(Q2) is the same as the ordinary median.\n",
        "\n",
        "Example: \n",
        "input = [75, 69, 56, 46, 47, 79, 92, 97, 89, 88, 36, 96, 105, 32, 116, 101, 79, 93, 91, 112]\n",
        "After sorting the above data set:\n",
        "[32, 36, 46, 47, 56, 69, 75, 79, 79, 88, 89, 91, 92, 93, 96, 97, 101, 105, 112, 116]\n",
        "Here the total number of terms is 20.\n",
        "\n",
        "The second quartile `(Q2)` or the median of the above data is `(88 + 89) / 2 = 88.5`\n",
        "The first quartile `(Q1)` is median of first `n` i.e. 10 terms (or `n` i.e. 10 smallest values) = 62.5\n",
        "The third quartile `(Q3)` is the median of `n` i.e. 10 largest values (or last `n` i.e. 10 values) = 96.5\n",
        "Then, `IQR = Q3 – Q1 = 96.5 – 62.5 = 34.0`\n",
        "\n",
        "`hint`: Please explore `np.percentile` function"
      ]
    },
    {
      "cell_type": "code",
      "metadata": {
        "deletable": false,
        "nbgrader": {
          "cell_type": "code",
          "checksum": "182defbf9f21094ccccd9e2b04d7db20",
          "grade": false,
          "grade_id": "myfibonacci_ans",
          "locked": false,
          "schema_version": 3,
          "solution": true
        },
        "colab": {
          "base_uri": "https://localhost:8080/",
          "height": 244
        },
        "outputId": "7550bce4-9a34-40f0-b701-97e4b878e59b",
        "id": "UKsSo3_Hx-Zw"
      },
      "source": [
        "import numpy as np\n",
        "def my_quartile(data):\n",
        "  \n",
        "    \"\"\"Caluate Interquartile Range of the given list.\"\"\"\n",
        "    # YOUR CODE HERE\n",
        "         \n",
        "    data = [32, 36, 46, 47, 56, 69, 75, 79, 79, 88, 89, 91, 92, 93, 96, 97, \n",
        "        101, 105, 112, 116]\n",
        "  \n",
        "# First quartile (Q1)\n",
        "Q1 = np.median(data[:10])\n",
        "  \n",
        "# Third quartile (Q3)\n",
        "Q3 = np.median(data[10:])\n",
        "  \n",
        "# Interquartile range (IQR)\n",
        "IQR = Q3 - Q1\n",
        "  \n",
        "print(IQR)\n",
        "\n",
        "      #raise NotImplementedError()"
      ],
      "execution_count": null,
      "outputs": [
        {
          "output_type": "error",
          "ename": "NameError",
          "evalue": "ignored",
          "traceback": [
            "\u001b[0;31m---------------------------------------------------------------------------\u001b[0m",
            "\u001b[0;31mNameError\u001b[0m                                 Traceback (most recent call last)",
            "\u001b[0;32m<ipython-input-1-1d1635ed8e21>\u001b[0m in \u001b[0;36m<module>\u001b[0;34m()\u001b[0m\n\u001b[1;32m      9\u001b[0m \u001b[0;34m\u001b[0m\u001b[0m\n\u001b[1;32m     10\u001b[0m \u001b[0;31m# First quartile (Q1)\u001b[0m\u001b[0;34m\u001b[0m\u001b[0;34m\u001b[0m\u001b[0;34m\u001b[0m\u001b[0m\n\u001b[0;32m---> 11\u001b[0;31m \u001b[0mQ1\u001b[0m \u001b[0;34m=\u001b[0m \u001b[0mnp\u001b[0m\u001b[0;34m.\u001b[0m\u001b[0mmedian\u001b[0m\u001b[0;34m(\u001b[0m\u001b[0mdata\u001b[0m\u001b[0;34m[\u001b[0m\u001b[0;34m:\u001b[0m\u001b[0;36m10\u001b[0m\u001b[0;34m]\u001b[0m\u001b[0;34m)\u001b[0m\u001b[0;34m\u001b[0m\u001b[0;34m\u001b[0m\u001b[0m\n\u001b[0m\u001b[1;32m     12\u001b[0m \u001b[0;34m\u001b[0m\u001b[0m\n\u001b[1;32m     13\u001b[0m \u001b[0;31m# Third quartile (Q3)\u001b[0m\u001b[0;34m\u001b[0m\u001b[0;34m\u001b[0m\u001b[0;34m\u001b[0m\u001b[0m\n",
            "\u001b[0;31mNameError\u001b[0m: name 'data' is not defined"
          ]
        }
      ]
    },
    {
      "cell_type": "code",
      "metadata": {
        "id": "u_Ce78dvjKnn"
      },
      "source": [
        "data = [13, 26, 26, 17, 16, 49, 37, 29, 40, 13, 12, 23, 0]\n",
        "my_quartile(data)"
      ],
      "execution_count": null,
      "outputs": []
    },
    {
      "cell_type": "code",
      "metadata": {
        "deletable": false,
        "editable": false,
        "nbgrader": {
          "cell_type": "code",
          "checksum": "6d5d7cf50f71d0499ca8014ab20956a0",
          "grade": true,
          "grade_id": "myfibonacci_test",
          "locked": false,
          "points": 1,
          "schema_version": 3,
          "solution": false
        },
        "id": "I90WWFaZjKno",
        "colab": {
          "base_uri": "https://localhost:8080/",
          "height": 236
        },
        "outputId": "a5a8ed57-795f-4310-87a1-1e34e5b91879"
      },
      "source": [
        "\"\"\"Check that correct answers here\"\"\"\n",
        "data = [32, 36, 46, 47, 56, 69, 75, 79, 79, 88, 89, 91, 92, 93, 96, 97, \n",
        "        101, 105, 112, 116]\n",
        "assert my_quartile(data) == 34\n",
        "\n",
        "data = [3, 6, 6, 7, 6, 9, 17, 19, 10, 11, 22, 13, 5]\n",
        "assert my_quartile(data) == 7\n",
        "\n",
        "data = [13, 26, 26, 17, 16, 49, 37, 29, 40, 13, 12, 23, 0]\n",
        "assert my_quartile(data) == 16"
      ],
      "execution_count": null,
      "outputs": [
        {
          "output_type": "error",
          "ename": "AssertionError",
          "evalue": "ignored",
          "traceback": [
            "\u001b[0;31m---------------------------------------------------------------------------\u001b[0m",
            "\u001b[0;31mAssertionError\u001b[0m                            Traceback (most recent call last)",
            "\u001b[0;32m<ipython-input-46-856c1a3178aa>\u001b[0m in \u001b[0;36m<module>\u001b[0;34m()\u001b[0m\n\u001b[1;32m      2\u001b[0m data = [32, 36, 46, 47, 56, 69, 75, 79, 79, 88, 89, 91, 92, 93, 96, 97, \n\u001b[1;32m      3\u001b[0m         101, 105, 112, 116]\n\u001b[0;32m----> 4\u001b[0;31m \u001b[0;32massert\u001b[0m \u001b[0mmy_quartile\u001b[0m\u001b[0;34m(\u001b[0m\u001b[0mdata\u001b[0m\u001b[0;34m)\u001b[0m \u001b[0;34m==\u001b[0m \u001b[0;36m34\u001b[0m\u001b[0;34m\u001b[0m\u001b[0;34m\u001b[0m\u001b[0m\n\u001b[0m\u001b[1;32m      5\u001b[0m \u001b[0;34m\u001b[0m\u001b[0m\n\u001b[1;32m      6\u001b[0m \u001b[0mdata\u001b[0m \u001b[0;34m=\u001b[0m \u001b[0;34m[\u001b[0m\u001b[0;36m3\u001b[0m\u001b[0;34m,\u001b[0m \u001b[0;36m6\u001b[0m\u001b[0;34m,\u001b[0m \u001b[0;36m6\u001b[0m\u001b[0;34m,\u001b[0m \u001b[0;36m7\u001b[0m\u001b[0;34m,\u001b[0m \u001b[0;36m6\u001b[0m\u001b[0;34m,\u001b[0m \u001b[0;36m9\u001b[0m\u001b[0;34m,\u001b[0m \u001b[0;36m17\u001b[0m\u001b[0;34m,\u001b[0m \u001b[0;36m19\u001b[0m\u001b[0;34m,\u001b[0m \u001b[0;36m10\u001b[0m\u001b[0;34m,\u001b[0m \u001b[0;36m11\u001b[0m\u001b[0;34m,\u001b[0m \u001b[0;36m22\u001b[0m\u001b[0;34m,\u001b[0m \u001b[0;36m13\u001b[0m\u001b[0;34m,\u001b[0m \u001b[0;36m5\u001b[0m\u001b[0;34m]\u001b[0m\u001b[0;34m\u001b[0m\u001b[0;34m\u001b[0m\u001b[0m\n",
            "\u001b[0;31mAssertionError\u001b[0m: "
          ]
        }
      ]
    },
    {
      "cell_type": "markdown",
      "metadata": {
        "id": "un3s3LmkjKnq"
      },
      "source": [
        "---\n",
        "## Question 3: \n",
        "\n",
        "Write a program to calculate the `standard deviation` of a dataset. Please create a function that first calculate the variance and calculate `standard deviation`. Please do not use inbuilt `numpy.var` and `numpy.std` functions. Write your own codes. "
      ]
    },
    {
      "cell_type": "code",
      "metadata": {
        "deletable": false,
        "nbgrader": {
          "cell_type": "code",
          "checksum": "16d7e10bb8c7d71e03823d5a3999c715",
          "grade": false,
          "grade_id": "my_std_ans",
          "locked": false,
          "schema_version": 3,
          "solution": true,
          "task": false
        },
        "id": "ljRGscOAjKnr"
      },
      "source": [
        "import math\n",
        "\n",
        "def my_std(data, ddof=0):\n",
        "    \"\"\"Write a program to calculate the standard deviation of a dataset.\"\"\"\n",
        "    \n",
        "    # YOUR CODE HERE\n",
        "    n = len(data)\n",
        "    mean = sum(data) / n\n",
        "    var = sum((x - mean)**2 for x in data) / n\n",
        "    std_dev = var ** 0.5\n",
        "    return std_dev\n",
        "    raise NotImplementedError()"
      ],
      "execution_count": null,
      "outputs": []
    },
    {
      "cell_type": "code",
      "metadata": {
        "id": "rj-pKwE2jKnt",
        "colab": {
          "base_uri": "https://localhost:8080/"
        },
        "outputId": "7042fd9e-5885-4d30-deee-fcb589195651"
      },
      "source": [
        "data = [4, 8, 6, 5, 3, 2, 8, 9, 2, 5]\n",
        "my_std(data)"
      ],
      "execution_count": null,
      "outputs": [
        {
          "output_type": "execute_result",
          "data": {
            "text/plain": [
              "2.4"
            ]
          },
          "metadata": {},
          "execution_count": 38
        }
      ]
    },
    {
      "cell_type": "code",
      "metadata": {
        "deletable": false,
        "editable": false,
        "nbgrader": {
          "cell_type": "code",
          "checksum": "ceb3eca968f9a24590055276dafc7fb0",
          "grade": true,
          "grade_id": "my_std_test",
          "locked": true,
          "points": 1,
          "schema_version": 3,
          "solution": false,
          "task": false
        },
        "id": "27WIDQeHjKnw"
      },
      "source": [
        "\"\"\"Test you solution\"\"\"\n",
        "# Test Case 1\n",
        "data = [4, 8, 6, 5, 3, 2, 8, 9, 2, 5]\n",
        "assert my_std(data) == 2.4\n",
        "\n",
        "data = [24, 18, 26, 15, 13, 10, 11, 4, 4, 1]\n",
        "assert math.isclose(my_std(data), 7.97, rel_tol=0.05)\n",
        "\n",
        "data = [14, 18, 16, 15, 13, 12, 18, 19, 12, 15]\n",
        "assert math.isclose(my_std(data), 2.4, rel_tol=0.05)"
      ],
      "execution_count": null,
      "outputs": []
    },
    {
      "cell_type": "code",
      "source": [
        "data = [1,2,3,4,5]\n",
        "first_quartile = np.quantile(data, 0.25)\n",
        "print(first_quartile)"
      ],
      "metadata": {
        "colab": {
          "base_uri": "https://localhost:8080/"
        },
        "id": "6KuVZbRcuxOQ",
        "outputId": "b6427288-827e-4a02-fda0-05434434c36b"
      },
      "execution_count": null,
      "outputs": [
        {
          "output_type": "stream",
          "name": "stdout",
          "text": [
            "2.0\n"
          ]
        }
      ]
    }
  ]
}