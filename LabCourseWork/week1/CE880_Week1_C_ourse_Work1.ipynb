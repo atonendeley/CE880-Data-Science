{
  "nbformat": 4,
  "nbformat_minor": 0,
  "metadata": {
    "kernelspec": {
      "display_name": "Python 3",
      "language": "python",
      "name": "python3"
    },
    "language_info": {
      "codemirror_mode": {
        "name": "ipython",
        "version": 3
      },
      "file_extension": ".py",
      "mimetype": "text/x-python",
      "name": "python",
      "nbconvert_exporter": "python",
      "pygments_lexer": "ipython3",
      "version": "3.7.10"
    },
    "colab": {
      "name": "CE880  Week1 C ourse Work1.ipynb",
      "provenance": [],
      "collapsed_sections": [],
      "include_colab_link": true
    }
  },
  "cells": [
    {
      "cell_type": "markdown",
      "metadata": {
        "id": "view-in-github",
        "colab_type": "text"
      },
      "source": [
        "<a href=\"https://colab.research.google.com/github/atonendeley/CE880-Data-Science/blob/main/LabCourseWork/week1/CE880_Week1_C_ourse_Work1.ipynb\" target=\"_parent\"><img src=\"https://colab.research.google.com/assets/colab-badge.svg\" alt=\"Open In Colab\"/></a>"
      ]
    },
    {
      "cell_type": "markdown",
      "metadata": {
        "id": "ZUFP1HOARkGL"
      },
      "source": [
        "Before you turn this problem in, make sure everything runs as expected. First, **restart the kernel** (in the menubar, select Kernel$\\rightarrow$Restart) and then **run all cells** (in the menubar, select Cell$\\rightarrow$Run All).\n",
        "\n",
        "Make sure you fill in any place that says `YOUR CODE HERE` or \"YOUR ANSWER HERE\", as well as your name and collaborators below:"
      ]
    },
    {
      "cell_type": "code",
      "metadata": {
        "id": "C00JmHt0RkGV"
      },
      "source": [
        "NAME = \"ATONYE ENDELEY\"\n",
        "COLLABORATORS = \"2103195\""
      ],
      "execution_count": null,
      "outputs": []
    },
    {
      "cell_type": "markdown",
      "metadata": {
        "id": "ieAP45_IRkGa"
      },
      "source": [
        "---"
      ]
    },
    {
      "cell_type": "markdown",
      "metadata": {
        "id": "hUb2VQSoRkGd"
      },
      "source": [
        "---\n",
        "# Welcome to CE880\n",
        "### This is your week-1 : Problem 1 notebook\n",
        "\n",
        "For this problem set, we'll be using the Jupyter notebook and please upload this notebook to [Google Colab](https://colab.research.google.com/). \n"
      ]
    },
    {
      "cell_type": "markdown",
      "metadata": {
        "id": "845Mjwf4RkGj"
      },
      "source": [
        "---\n",
        "## Question 1:\n",
        "\n",
        "Write a function that calculate the area of the square by using the formula as `area = side*side`\n",
        "At last, print the area of the square to get the output."
      ]
    },
    {
      "cell_type": "code",
      "metadata": {
        "deletable": false,
        "nbgrader": {
          "cell_type": "code",
          "checksum": "698a900f35ba612f172a84394fc726ac",
          "grade": false,
          "grade_id": "areaofSqr_ans",
          "locked": false,
          "schema_version": 3,
          "solution": true
        },
        "id": "PP4joKkARkGn"
      },
      "source": [
        "def areaofSqr(side):\n",
        "\n",
        "    \"\"\"Compute the area of squares with side = any number.\"\"\"\n",
        "    \n",
        "    # YOUR CODE HERE\n",
        "    area = side*side \n",
        "    return area\n",
        "    side = 10\n",
        "    print(areaofsqr(side))\n",
        "    raise NotImplementedError()"
      ],
      "execution_count": null,
      "outputs": []
    },
    {
      "cell_type": "code",
      "metadata": {
        "colab": {
          "base_uri": "https://localhost:8080/"
        },
        "id": "b5uraC7vRkGp",
        "outputId": "7f7d00de-6a97-4966-9e99-df46f67412f6"
      },
      "source": [
        "areaofSqr(10)"
      ],
      "execution_count": null,
      "outputs": [
        {
          "output_type": "execute_result",
          "data": {
            "text/plain": [
              "100"
            ]
          },
          "metadata": {},
          "execution_count": 5
        }
      ]
    },
    {
      "cell_type": "code",
      "metadata": {
        "deletable": false,
        "editable": false,
        "nbgrader": {
          "cell_type": "code",
          "checksum": "7262835dec8b43d4ca476e069cfe8e5d",
          "grade": true,
          "grade_id": "areaofSqr_test",
          "locked": false,
          "points": 1,
          "schema_version": 3,
          "solution": false
        },
        "id": "hOLkFYJDRkGs"
      },
      "source": [
        "\"\"\"Check that squares returns the correct output for several inputs\"\"\"\n",
        "assert areaofSqr(1) == 1\n",
        "assert areaofSqr(2) == 4\n",
        "assert areaofSqr(-3) == 9\n",
        "assert areaofSqr(10) == 100\n",
        "assert areaofSqr(11) == 121"
      ],
      "execution_count": null,
      "outputs": []
    },
    {
      "cell_type": "markdown",
      "metadata": {
        "id": "_4dBaAcPRkG3"
      },
      "source": [
        "---\n",
        "\n",
        "## Question 2:\n",
        "\n",
        "A `trapezoid` is a quadrilateral with two sides parallel. The `trapezoid` is equivalent to the British definition of the `trapezium`. An isosceles `trapezoid` is a `trapezoid` in which the base angles are equal so\n",
        "\n",
        "<img src=\"https://www.w3resource.com/w3r_images/python-math-image-exercise-3.svg\"\n",
        "     alt=\"Markdown Monster icon\"\n",
        "     style=\"float: left; margin-right: 10px;\" />"
      ]
    },
    {
      "cell_type": "code",
      "metadata": {
        "deletable": false,
        "nbgrader": {
          "cell_type": "code",
          "checksum": "0b5eb16a2aa5919b3bd20fa36c29d3c3",
          "grade": false,
          "grade_id": "areaofTrap_ans",
          "locked": false,
          "schema_version": 3,
          "solution": true
        },
        "id": "0jpHPp0QRkG_"
      },
      "source": [
        "def areaofTrap(base1, base2, height):\n",
        "    \"\"\"Compute the sum of the squares of numbers from 1 to n.\"\"\"\n",
        "    \n",
        "    # YOUR CODE HERE\n",
        "    # calculate the area\n",
        "    area = 0.5 * (base1 + base2) * height\n",
        "    print(\"areaofTrap = %.2f \" %area)\n",
        "    return area\n",
        "    areaofTrap(9, 6, 4)\n",
        "\n",
        "    \n",
        "    raise NotImplementedError()"
      ],
      "execution_count": null,
      "outputs": []
    },
    {
      "cell_type": "code",
      "metadata": {
        "id": "8TsaLVA5RkHH",
        "colab": {
          "base_uri": "https://localhost:8080/"
        },
        "outputId": "f5943d19-a0fc-4490-b81c-2fda882c5e67"
      },
      "source": [
        "areaofTrap(5, 3, -9)"
      ],
      "execution_count": null,
      "outputs": [
        {
          "output_type": "stream",
          "name": "stdout",
          "text": [
            "areaofTrap = -36.00 \n"
          ]
        },
        {
          "output_type": "execute_result",
          "data": {
            "text/plain": [
              "-36.0"
            ]
          },
          "metadata": {},
          "execution_count": 14
        }
      ]
    },
    {
      "cell_type": "code",
      "metadata": {
        "deletable": false,
        "editable": false,
        "nbgrader": {
          "cell_type": "code",
          "checksum": "7e6d21158f33b7baf1aca9e613c4a775",
          "grade": true,
          "grade_id": "areaofTrap_test",
          "locked": false,
          "points": 1,
          "schema_version": 3,
          "solution": false
        },
        "id": "Ab4utlKsRkHJ",
        "colab": {
          "base_uri": "https://localhost:8080/"
        },
        "outputId": "b3c81033-dd38-45e5-ea77-3efc4ddcbfc2"
      },
      "source": [
        "\"\"\"Check that areaofTrap returns the correct answer for various inputs.\"\"\"\n",
        "assert areaofTrap(10, 10, 20) == 200.0\n",
        "assert areaofTrap(5, 10, 20) == 150.0\n",
        "assert areaofTrap(5, 3, 5) == 20.0\n",
        "assert areaofTrap(5, 3, -9) == -36.0"
      ],
      "execution_count": null,
      "outputs": [
        {
          "output_type": "stream",
          "name": "stdout",
          "text": [
            "areaofTrap = 200.00 \n",
            "areaofTrap = 150.00 \n",
            "areaofTrap = 20.00 \n",
            "areaofTrap = -36.00 \n"
          ]
        }
      ]
    },
    {
      "cell_type": "markdown",
      "metadata": {
        "id": "wTeEWCR1RkHM"
      },
      "source": [
        "---\n",
        "## Question 3: \n",
        "\n",
        " Write a Python program to reverse a string. Example: Sample String: `1234xyz` Expected Output: `zyx4321`"
      ]
    },
    {
      "cell_type": "code",
      "metadata": {
        "deletable": false,
        "nbgrader": {
          "cell_type": "code",
          "checksum": "98cb7a38e7c264c61d0ff0332d879772",
          "grade": false,
          "grade_id": "reversestring_ans",
          "locked": false,
          "schema_version": 3,
          "solution": true,
          "task": false
        },
        "id": "dYkTg3JaRkHO"
      },
      "source": [
        "def reverse_string(str1):\n",
        "\n",
        "  \"\"\"Write your code here to reverse the string\"\"\"\n",
        "     # YOUR CODE HERE\n",
        "\n",
        "  string = \"\"   # Declaring empty string to store the reversed string  \n",
        "  for i in str1:\n",
        "    string = i + string\n",
        "  return string\n",
        "  str1 = \"Happy\"\n",
        "  print(\"The reverse string is:\", reverse_string(str1)) \n",
        "\n",
        "  raise NotImplementedError()"
      ],
      "execution_count": null,
      "outputs": []
    },
    {
      "cell_type": "code",
      "metadata": {
        "id": "j8JCAMTgRkHR",
        "colab": {
          "base_uri": "https://localhost:8080/",
          "height": 35
        },
        "outputId": "b766b9a6-e34d-43d6-9e0c-ae6b35fdecdc"
      },
      "source": [
        "reverse_string('CE880')"
      ],
      "execution_count": null,
      "outputs": [
        {
          "output_type": "execute_result",
          "data": {
            "application/vnd.google.colaboratory.intrinsic+json": {
              "type": "string"
            },
            "text/plain": [
              "'088EC'"
            ]
          },
          "metadata": {},
          "execution_count": 57
        }
      ]
    },
    {
      "cell_type": "markdown",
      "metadata": {
        "id": "ts0kE0WygEqp"
      },
      "source": [
        ""
      ]
    },
    {
      "cell_type": "code",
      "metadata": {
        "deletable": false,
        "editable": false,
        "nbgrader": {
          "cell_type": "code",
          "checksum": "219d61397ee1726d142cbd4348b06da3",
          "grade": true,
          "grade_id": "reversestring_test",
          "locked": true,
          "points": 1,
          "schema_version": 3,
          "solution": false,
          "task": false
        },
        "id": "kRMhH2kNRkHU"
      },
      "source": [
        "\"\"\"Check that areaofTrap returns the correct answer for various inputs.\"\"\"\n",
        "assert reverse_string('Colchester') == 'retsehcloC'\n",
        "assert reverse_string('University') == 'ytisrevinU'\n",
        "assert reverse_string('Data Science') == 'ecneicS ataD'\n",
        "assert reverse_string('CE880') == '088EC'"
      ],
      "execution_count": null,
      "outputs": []
    }
  ]
}