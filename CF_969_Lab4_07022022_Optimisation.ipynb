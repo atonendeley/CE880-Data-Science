{
  "cells": [
    {
      "cell_type": "markdown",
      "metadata": {
        "id": "view-in-github",
        "colab_type": "text"
      },
      "source": [
        "<a href=\"https://colab.research.google.com/github/atonendeley/CE880-Data-Science/blob/main/CF_969_Lab4_07022022_Optimisation.ipynb\" target=\"_parent\"><img src=\"https://colab.research.google.com/assets/colab-badge.svg\" alt=\"Open In Colab\"/></a>"
      ]
    },
    {
      "cell_type": "markdown",
      "metadata": {
        "id": "_CMam9SR6sTF"
      },
      "source": [
        "# Lab 4: Optimisation\n",
        "\n",
        "The purpose of this lab session is to study in more depth optimisation notions and use them to model and solve optimisation programs. Recall that in the last lecture we discussed the different formats of *linear programs* and how to switch from one formutation to another. "
      ]
    },
    {
      "cell_type": "markdown",
      "metadata": {
        "id": "56zTDDiw6sTJ"
      },
      "source": [
        "## 1. Verifying the model design (by revisiting tasks from lab 3)"
      ]
    },
    {
      "cell_type": "markdown",
      "metadata": {
        "id": "reXhM5he6sTJ"
      },
      "source": [
        "In the previous lab session, we discussed two examples where you were asked to model them with linear programs and solve them using python libraries.\n",
        "\n",
        "We begin by revisiting these two examples and checking their solution. Please check *lab3-files* and in particular the *How to build a model* file.  "
      ]
    },
    {
      "cell_type": "markdown",
      "metadata": {
        "id": "4z_vxd-W6sTK"
      },
      "source": [
        "**Example 1 (Task 5 in Lab 3):** Click Details to recall the example."
      ]
    },
    {
      "cell_type": "markdown",
      "metadata": {
        "id": "k3QJoIAO6sTK"
      },
      "source": [
        "<details>\n",
        "A company will face the following cash requirements in the next eight quarters (positive entries\n",
        "represent cash needs while negative entries represent cash surpluses). \n",
        "\n",
        "| Q1 | Q2 | Q3 | Q4 | Q5 | Q6 | Q7 | Q8 |\n",
        "| --- | --- | --- | --- | --- | --- | --- | --- |\n",
        "| 100 | 500 | 100 | -600 | -500 | 200 | 600 | -900 |\n",
        "\n",
        "The company has three borrowing possibilities.\n",
        "<ul>\n",
        "<li> a 2-year loan available at the beginning of Q1, with a 1% interest per quarter.\n",
        "<li> The other two borrowing opportunities are available at the beginning of every quarter: a 6-\n",
        "month loan with a 1.8% interest per quarter, and a quarterly loan with a 2.5% interest for the\n",
        "quarter.\n",
        "</ul>\n",
        "    \n",
        "Any surplus can be invested at a 0.5% interest per quarter. Formulate a linear program that maximises\n",
        "the wealth of the company at the beginning of Q9. Solve the problem using **linprog** and interpret the\n",
        "solution.\n",
        "</details>"
      ]
    },
    {
      "cell_type": "markdown",
      "metadata": {
        "id": "YVPhvNAh6sTL"
      },
      "source": [
        "**Task 1**: Please see below for the solution and check file *How to build the model* in the *lab3-files* folder. See if the model and the implementation makes sense to you."
      ]
    },
    {
      "cell_type": "code",
      "execution_count": 3,
      "metadata": {
        "colab": {
          "base_uri": "https://localhost:8080/"
        },
        "id": "PBF4T_Yq6sTL",
        "outputId": "2cc90546-2720-480e-938d-efd76e685e33"
      },
      "outputs": [
        {
          "output_type": "stream",
          "name": "stdout",
          "text": [
            "Phase Iteration Minimum Slack       Constraint Residual Objective          \n",
            "1     0         NA                  1131.370849898      -900.0              \n",
            "1     1         NA                  1084.622736254      -900.0              \n",
            "1     2         NA                  879.4789725306      -900.0              \n",
            "1     3         NA                  792.3938429683      -900.0              \n",
            "1     4         NA                  727.2892907422      -900.0              \n",
            "1     5         NA                  621.5481973748      -900.0              \n",
            "1     6         NA                  434.3424603237      -900.0              \n",
            "1     7         NA                  330.5410934859      -799.0              \n",
            "1     8         NA                  299.9109874116      -768.5675148382     \n",
            "1     9         NA                  9.947598300641e-14  -461.1587527412     \n",
            "2     9         NA                  9.947598300641e-14  -461.1587527412     \n",
            "2     10        NA                  8.038873388461e-14  -468.7828125949     \n",
            "2     11        NA                  1.989519660128e-13  -471.3459717977     \n",
            "Optimization terminated successfully.\n",
            "         Current function value: -471.345972 \n",
            "         Iterations: 11\n"
          ]
        },
        {
          "output_type": "execute_result",
          "data": {
            "text/plain": [
              "array([424.40992891,   0.        ,   0.        , 324.40992891,\n",
              "       178.21212073,   0.        ,   0.        ,   0.        ,\n",
              "       107.45191746,   0.        ,   0.        ,   0.        ,\n",
              "       304.19774641,   0.        ,   0.        , 801.47463585,\n",
              "         0.        ,   0.        , 601.23790974,   0.        ,\n",
              "         0.        , 471.3459718 ])"
            ]
          },
          "metadata": {},
          "execution_count": 3
        }
      ],
      "source": [
        "import numpy as np\n",
        "from scipy.optimize import linprog\n",
        "\n",
        "# I generate the vector of coefficients in the objective function and initialize the matrix of contraint coefficients\n",
        "c = np.concatenate([np.zeros(21), [-1]]) # Recall that linprog has a minimization objective, so we minimize -wealth\n",
        "A = np.zeros((8,22))\n",
        "\n",
        "# I create a row for each constraint\n",
        "A[0] = np.concatenate([[1,1,1,-1],np.zeros(18)])\n",
        "A[1] = np.concatenate([[-0.01, -0.018, -1.025, 1.005, 1, 1, -1],np.zeros(15)])\n",
        "A[2] = np.concatenate([[-0.01, -1.018, 0, 0, -0.018, -1.025, 1.005, 1, 1, -1],np.zeros(12)])\n",
        "A[3] = np.concatenate([[-0.01, 0, 0, 0, -1.018, 0, 0, -0.018, -1.025, 1.005, 1, 1, -1],np.zeros(9)])\n",
        "A[4] = np.concatenate([[-0.01], np.zeros(6), [-1.018, 0, 0, -0.018, -1.025, 1.005, 1, 1, -1],np.zeros(6)])\n",
        "A[5] = np.concatenate([[-0.01], np.zeros(9), [-1.018, 0, 0, -0.018, -1.025, 1.005, 1, 1, -1],np.zeros(3)])\n",
        "A[6] = np.concatenate([[-0.01], np.zeros(12), [-1.018, 0, 0, -0.018, -1.025, 1.005, 1, -1, 0]])\n",
        "A[7] = np.concatenate([[-1.01], np.zeros(15), [-1.018, 0, 0, -1.025, 1.005, -1]])\n",
        "\n",
        "b = [100, 500, 100, -600, -500, 200, 600, -900]\n",
        "\n",
        "# It is now time to solve. All variables are constrained to be non-negative, so I don't need to specify the bounds; this is the default\n",
        "res = linprog(c, A_eq=A, b_eq=b, method='revised simplex', options={\"disp\": True})\n",
        "\n",
        "# Print the solution. Recall that the wealth is the last variable. \n",
        "res.x"
      ]
    },
    {
      "cell_type": "markdown",
      "metadata": {
        "id": "b8uCyXH96sTN"
      },
      "source": [
        "**Example 2 (Task 6 in Lab 3):**  Click Details to recall the example."
      ]
    },
    {
      "cell_type": "markdown",
      "metadata": {
        "id": "U2vCDYs26sTO"
      },
      "source": [
        "<details>\n",
        "Consider a restaurant that is open seven days a week. Based on past experience, the number of workers needed on a particular day is given as follows: \n",
        "\n",
        "| Mon | Tue | Wed | Thu | Fri | Sat | Sun | \n",
        "| --- | --- | --- | --- | --- | --- | --- |\n",
        "| 14 | 13 | 15 | 16 | 19 | 18 | 11 |\n",
        "\n",
        "Every worker works five days in a week and has two days off in the following pattern: three days work, one day off, two days work, one day off. So, there are workers working on Mon-Tue-Wed-Fri-Sat, other workers on Tue-Wed-Thu-Sat-Sun, etc. How can we minimize the number of workers that staff the restaurant? \n",
        "</details>"
      ]
    },
    {
      "cell_type": "markdown",
      "metadata": {
        "id": "oCePaeDh6sTP"
      },
      "source": [
        "**Task 2**: Please see below for the solution and check file How to build the model in the lab3-files folder. See if the model and the implementation makes sense to you."
      ]
    },
    {
      "cell_type": "code",
      "execution_count": 4,
      "metadata": {
        "colab": {
          "base_uri": "https://localhost:8080/"
        },
        "id": "Rd1OgdSn6sTP",
        "outputId": "6021ca92-55bc-4e61-e7e0-2081e73ba480"
      },
      "outputs": [
        {
          "output_type": "stream",
          "name": "stdout",
          "text": [
            "Phase Iteration Minimum Slack       Constraint Residual Objective          \n",
            "1     0         -19.0               0.0                 0.0                 \n",
            "1     1         -15.0               0.0                 13.0                \n",
            "1     2         -14.0               0.0                 14.0                \n",
            "1     3         -6.0                0.0                 18.0                \n",
            "1     4         -6.0                0.0                 18.66666666667      \n",
            "1     5         -5.0                0.0                 19.0                \n",
            "1     6         -4.0                0.0                 20.0                \n",
            "1     7         -2.0                0.0                 22.0                \n",
            "1     8         0.0                 0.0                 22.66666666667      \n",
            "2     8         0.0                 0.0                 22.66666666667      \n",
            "Optimization terminated successfully.\n",
            "         Current function value: 22.666667   \n",
            "         Iterations: 8\n"
          ]
        },
        {
          "output_type": "execute_result",
          "data": {
            "text/plain": [
              "array([7.66666667, 2.66666667, 3.66666667, 0.        , 4.        ,\n",
              "       0.        , 4.66666667])"
            ]
          },
          "metadata": {},
          "execution_count": 4
        }
      ],
      "source": [
        "import numpy as np\n",
        "from scipy.optimize import linprog\n",
        "\n",
        "# I generate the vector of coefficients in the objective function \n",
        "c = np.array([1,1,1,1,1,1,1])\n",
        "A = np.zeros((7,7))\n",
        "\n",
        "# I create a row for each constraint\n",
        "A[0] = np.array([-1,0,-1,-1,-1,0,-1])\n",
        "A[1] = np.array([-1,-1,0,-1,-1,-1,0])\n",
        "A[2] = np.array([0,-1,-1,0,-1,-1,-1])\n",
        "A[3] = np.array([-1,0,-1,-1,0,-1,-1])\n",
        "A[4] = np.array([-1,-1,0,-1,-1,0,-1])\n",
        "A[5] = np.array([-1,-1,-1,0,-1,-1,0])\n",
        "A[6] = np.array([0,-1,-1,-1,0,-1,-1])\n",
        "b = np.array([-14, -13, -15, -16, -19, -18, -11])\n",
        "\n",
        "# It is now time to solve. All variables are constrained to be non-negative, so I don't need to specify the bounds; this is the default\n",
        "res = linprog(c, A_ub=A, b_ub=b, method='revised simplex', options={\"disp\": True})\n",
        "\n",
        "# Print the solution. Recall that the wealth is the last variable. \n",
        "res.x"
      ]
    },
    {
      "cell_type": "markdown",
      "metadata": {
        "id": "vuLbeSqP6sTQ"
      },
      "source": [
        "It is clear from the solution that our model did **not** take into account the fact that the number of workers must be an *integer* number. Hence, in last week's lab  we discussed integer linear programming (see Section 5 in Lab 3)."
      ]
    },
    {
      "cell_type": "markdown",
      "metadata": {
        "id": "CWaei2f46sTQ"
      },
      "source": [
        "## 2. Testing our understanding on different LP formats"
      ]
    },
    {
      "cell_type": "markdown",
      "metadata": {
        "id": "ROIuyWJz6sTQ"
      },
      "source": [
        "In the last lecture (see Lecture on Feb. 2, available also at [Listen Again](https://listenagain.essex.ac.uk/) we navigated throught different LP formats. The following couple of tasks involve transforming a linear program from one form to another.\n",
        "\n",
        "In the following, we use the convention that the **standard form** is when the objective function is a **minimization** function, all constraints are **equalities** and all variables must be **non-negative**.\n",
        "\n",
        "**Task 3:** Write the following linear program in *standard form*.\n",
        "\n",
        "\\begin{eqnarray*}\n",
        "\\min & \\hspace{1cm}& x_2 \\\\\n",
        "\\text{subject to} & \\hspace{1cm}&x_1+x_2 \\geq 1\\\\\n",
        "& \\hspace{1cm}&x_1-x_2 \\leq 0\n",
        "\\end{eqnarray*}\n",
        "Note that $x_1, x_2$ are unrestricted in sign.\n"
      ]
    },
    {
      "cell_type": "markdown",
      "metadata": {
        "id": "97YVQAiz6sTR"
      },
      "source": [
        "**Solution to Task 3:** Click on *Details* below to reveal it."
      ]
    },
    {
      "cell_type": "markdown",
      "metadata": {
        "id": "HicqDM4I6sTR"
      },
      "source": [
        "<details>\n",
        "\n",
        "Let us write $x_i = y_i-z_i$ for $i=1, 2$ with $y_i\\geq 0$, $z_i\\geq 0$ and let us introduce slack variable $s_1$ for the first constraint and $s_2$ for the second constraint. We obtain\n",
        "    \\begin{eqnarray*}\n",
        "\\min & \\hspace{1cm}& y_2-z_2 \\\\\n",
        "\\text{subject to} & \\hspace{1cm}&y_1-z_1+y_2-z_2-s_1 = 1\\\\ %Is it clear why $s_1$ appears with a negative sign?\n",
        "& \\hspace{1cm}&y_1-z_1-y_2+z_2+s_2 = 0\\\\\n",
        "    & \\hspace{1cm}&y_1,z_1,y_2,z_2,s_1,s_2\\geq 0\n",
        "\\end{eqnarray*}\n",
        "</details>"
      ]
    },
    {
      "cell_type": "markdown",
      "metadata": {
        "id": "5qvdYtjK6sTR"
      },
      "source": [
        "**Task 4:** Write the following linear program in *standard form*.\n",
        "\n",
        "\\begin{eqnarray*}\n",
        "\\min & \\hspace{1cm}& 4x_1+x_2-x_3 \\\\\n",
        "\\text{subject to} & \\hspace{1cm}&x_1+3x_3 \\leq 6\\\\\n",
        "& \\hspace{1cm}&3x_1+x_2+3x_3\\geq 9\\\\\n",
        "& \\hspace{1cm}&x_1,x_2\\geq 0\n",
        "\\end{eqnarray*}\n",
        "Note that $x_3$ is unrestricted in sign."
      ]
    },
    {
      "cell_type": "markdown",
      "metadata": {
        "id": "0x_3wmQ36sTR"
      },
      "source": [
        "**Solution to Task 4:** Click on *Details* below to reveal it."
      ]
    },
    {
      "cell_type": "markdown",
      "metadata": {
        "id": "3VTNpVgG6sTS"
      },
      "source": [
        "<details>\n",
        "\n",
        "Let us write $x_3 = y_3-z_3$ with $y_3\\geq 0$, $z_3\\geq 0$ and let us introduce slack variable $s_1$ for the first constraint and $s_2$ for the second constraint. We obtain\n",
        "    \\begin{eqnarray*}\n",
        "\\min & \\hspace{1cm}& 4x_1+x_2-y_3+z_3\\\\\n",
        "\\text{subject to} & \\hspace{1cm}&x_1+3y_3-3z_3+s_1 = 6\\\\ \n",
        "& \\hspace{1cm}&3x_1+x_2+3y_3-3z_3-s_2 = 9\\\\ %Is it clear why $s_2$ appears with a negative sign?\n",
        "    & \\hspace{1cm}&x_1, x_2, y_3,z_3,s_1,s_2\\geq 0\n",
        "\\end{eqnarray*}\n",
        "</details>"
      ]
    },
    {
      "cell_type": "markdown",
      "metadata": {
        "id": "9GuBZmg16sTS"
      },
      "source": [
        "## 3. Using different solvers"
      ]
    },
    {
      "cell_type": "markdown",
      "metadata": {
        "id": "GOvxRWYg6sTS"
      },
      "source": [
        "### 3a. Excel SOLVER\n",
        "We now work with a solver outside Python, namely the solver embedded in the well-known Excel application. Please check the folder *lab4-files* in the CF969 moodle page."
      ]
    },
    {
      "cell_type": "markdown",
      "metadata": {
        "id": "NYju8yCq6sTS"
      },
      "source": [
        "**Task 5:** Please open the file *How to add Solver to Excel.pdf* and work through the instructions to get the Excel SOLVER add-in to work. Using the instructions, run Excel’s SOLVER on the example linear program (LP) described in the file *LP with Excel (model building).pdf*, to which *How to add Solver to Excel.pdf* also refers.\n",
        "\n",
        "**Task 6:** Solve Example 2 (Task 6 in Lab 3) using Excel SOLVER. Recall that we now need to impose the constraint for an integral solution."
      ]
    },
    {
      "cell_type": "markdown",
      "metadata": {
        "id": "l_tzsRsl6sTT"
      },
      "source": [
        "**Solution to Task 6**: Check file *task6-sol.xlsx*."
      ]
    },
    {
      "cell_type": "markdown",
      "metadata": {
        "id": "el8HGecS6sTT"
      },
      "source": [
        "### 3b. Gurobi and Gurobipy\n",
        "\n",
        "Gurobi is a powerful optimisation software. It is installed in the lab computers and we will cover an example in the next lecture on how to use it. In case you wish to check it now, please visit slides 71 to 81 in file *CF969 - 3 - Mathematical Optimisation.pptx* in the CF969 moodle page.\n",
        "\n",
        "Apart from using Gurobi on its own, we have the option to invoke Gurobi through Python, by using the *gurobipy* package.\n",
        "\n",
        "#### Installing Gurobipy\n",
        "\n",
        "To install gurobipy, please see https://support.gurobi.com/hc/en-us/articles/360044290292-How-do-I-install-Gurobi-for-Python-\n",
        "\n",
        "If your are using Horizon (https://csee-horizon.essex.ac.uk/portal/webclient/index.html), please open a command prompt and execute (while still in drive m:\\) \"m:\\python -m pip install gurobipy\" (without the quotes)\n",
        "\n",
        "\n",
        "##### Solving an Integer Linear Program with Gurobipy\n",
        "\n",
        "The following example shows how to use gurobipy to solve an integer linear program. Recall that in integer linear programs, each variable must be given an integer value. Such constraints arise quite naturally in many different settings.\n",
        "\n",
        "\n",
        "#### Task Assignment Problem formulation\n",
        "\n",
        "Consider three tasks that need to be completed: let's call them A, B, and C. \n",
        "\n",
        "Consider three users that, in principle, can do the tasks: 1, 2, and 3.\n",
        "\n",
        "#### Data \n",
        "\n",
        "The ability to perform each task is as follows: User 1 can execute task A with quality 0.53, task B with quality 0.27 and task C with quality 0.13. Similarly, user 2 has 0.8 for task A, 0.47 for task B, and 0.67 for task C, and finally, user 3 has 0.53 for task A, 0.73 for task B, and 0.47 for task C.\n",
        "\n",
        "**Assumption**: Only one user can be assigned to a task, and each user must execute at most one task.\n",
        "\n",
        "#### Problem statement\n",
        "\n",
        "Determine an assignment that ensures that each task is executed and each user executes at most one tasks in order to maximize the total quality of the tasks executed according to the assignment.\n",
        "\n",
        "#### Decision variables\n",
        "\n",
        "The decision variable $x_{r,\\; j} = 1$ represents that user r is assigned to task j, and 0 otherwise, for  r=1,2,3 and 𝑗=1,2,3.\n",
        "\n",
        "#### Constraints\n",
        "\n",
        "#### Jobs constraints\n",
        "\n",
        "For each task 𝑗=A,B,C, exactly one user from r=1,2,3 must be assigned.\n",
        "\n",
        "Constraint (A=1): $x_{1,\\; A} + x_{2,\\; 1} + x_{3,\\; 1} = 1$\n",
        "\n",
        "Constraint (B=2): $x_{1,\\; 2} + x_{2,\\; 2} + x_{3,\\; 2} = 1$\n",
        "\n",
        "Constraint (C=3): $x_{1,\\; 3} + x_{2,\\; 3} + x_{3,\\; 3} = 1$\n",
        "\n",
        "#### Resources constraints\n",
        "\n",
        "For each user r=1,2,3, at most one task from j=A,B,C can be assigned.\n",
        "\n",
        "Constraint (user 1): $x_{1,\\; 1} + x_{1,\\; 2} + x_{1,\\; 3}  \\leq 1$\n",
        "\n",
        "Constraint (user 2): $x_{2,\\; 1} + x_{2,\\; 2} + x_{2,\\; 3}  \\leq 1$\n",
        "\n",
        "Constraint (user 3): $x_{2,\\; 1} + x_{2,\\; 2} + x_{2,\\; 3}  \\leq 1$\n",
        "\n",
        "#### Objective function\n",
        "\n",
        "The objective function is to maximize the total quality of the assignments while satisfying the user and task constraints.\n",
        "\n",
        "$$\n",
        "\\max \\; (53x_{1,\\; 1} + 80x_{2,\\; 1} + 53x_{3,\\; 1}) + (27x_{1,\\; 2} + 47x_{2,\\; 2} + 73x_{3,\\; 2})\n",
        "+ (13x_{1,\\; 3} + 67x_{2,\\; 3} + 47x_{3,\\; 3})\n",
        "$$\n",
        "\n",
        "\n"
      ]
    },
    {
      "cell_type": "code",
      "execution_count": 1,
      "metadata": {
        "colab": {
          "base_uri": "https://localhost:8080/"
        },
        "id": "-Grk9TO56sTT",
        "outputId": "b1381268-52b5-4031-89c8-7e50b9071d1b"
      },
      "outputs": [
        {
          "output_type": "stream",
          "name": "stdout",
          "text": [
            "Requirement already satisfied: gurobipy in /root/.local/lib/python3.7/site-packages (9.5.1)\n"
          ]
        }
      ],
      "source": [
        "%pip install gurobipy"
      ]
    },
    {
      "cell_type": "code",
      "execution_count": 2,
      "metadata": {
        "id": "PtQlb3Xp6sTU"
      },
      "outputs": [],
      "source": [
        "# import gurobi library\n",
        "\n",
        "from gurobipy import *"
      ]
    },
    {
      "cell_type": "markdown",
      "metadata": {
        "id": "rDQQoK3a6sTU"
      },
      "source": [
        "## Data\n",
        "The list R contains the id's of the three users: 1, 2, and 3. \n",
        "\n",
        "The list J contains the names of the tasks: A, B, and C."
      ]
    },
    {
      "cell_type": "code",
      "execution_count": 3,
      "metadata": {
        "id": "zq5nZBft6sTU"
      },
      "outputs": [],
      "source": [
        "# resources and jobs sets\n",
        "R = ['1', '2', '3']\n",
        "J = ['A', 'B', 'C']"
      ]
    },
    {
      "cell_type": "markdown",
      "metadata": {
        "id": "V9LnSPZj6sTU"
      },
      "source": [
        "$r \\in R$ index and set of users.\n",
        "\n",
        "$j \\in J$ index and set of tasks.\n",
        "\n",
        "The following “multidict” function describes the quality score associated with each possible combination of a user and a task"
      ]
    },
    {
      "cell_type": "code",
      "source": [
        "!pip install multidict"
      ],
      "metadata": {
        "colab": {
          "base_uri": "https://localhost:8080/"
        },
        "id": "PQD7-CBP9499",
        "outputId": "8fa28c98-dc6f-4f69-b313-f46773e1e0ee"
      },
      "execution_count": 4,
      "outputs": [
        {
          "output_type": "stream",
          "name": "stdout",
          "text": [
            "Collecting multidict\n",
            "  Downloading multidict-6.0.2-cp37-cp37m-manylinux_2_17_x86_64.manylinux2014_x86_64.whl (94 kB)\n",
            "\u001b[?25l\r\u001b[K     |███▌                            | 10 kB 13.7 MB/s eta 0:00:01\r\u001b[K     |███████                         | 20 kB 18.6 MB/s eta 0:00:01\r\u001b[K     |██████████▍                     | 30 kB 24.0 MB/s eta 0:00:01\r\u001b[K     |█████████████▉                  | 40 kB 8.2 MB/s eta 0:00:01\r\u001b[K     |█████████████████▎              | 51 kB 5.7 MB/s eta 0:00:01\r\u001b[K     |████████████████████▊           | 61 kB 6.7 MB/s eta 0:00:01\r\u001b[K     |████████████████████████▏       | 71 kB 7.5 MB/s eta 0:00:01\r\u001b[K     |███████████████████████████▋    | 81 kB 8.4 MB/s eta 0:00:01\r\u001b[K     |███████████████████████████████▏| 92 kB 9.4 MB/s eta 0:00:01\r\u001b[K     |████████████████████████████████| 94 kB 2.2 MB/s \n",
            "\u001b[?25hInstalling collected packages: multidict\n",
            "Successfully installed multidict-6.0.2\n"
          ]
        }
      ]
    },
    {
      "cell_type": "code",
      "execution_count": 5,
      "metadata": {
        "id": "L3C92nOp6sTU"
      },
      "outputs": [],
      "source": [
        "# matching score data\n",
        "\n",
        "combinations, ms = multidict({\n",
        "    ('1', 'A'): 53,\n",
        "    ('1', 'B'): 27,\n",
        "    ('1', 'C'): 13,\n",
        "    ('2', 'A'): 80,\n",
        "    ('2', 'B'): 47,\n",
        "    ('2', 'C'): 67,\n",
        "    ('3', 'A'): 53,\n",
        "    ('3', 'B'): 73,\n",
        "    ('3', 'C'): 47\n",
        "})"
      ]
    },
    {
      "cell_type": "markdown",
      "metadata": {
        "id": "qJT663Wg6sTU"
      },
      "source": [
        "The following function generates an empty model object “m” and takes the string “RAP” model name as its argument."
      ]
    },
    {
      "cell_type": "code",
      "execution_count": 6,
      "metadata": {
        "colab": {
          "base_uri": "https://localhost:8080/"
        },
        "id": "QZBF5e1E6sTV",
        "outputId": "ae9ecc5b-f99f-4bf5-a564-00f428e993dd"
      },
      "outputs": [
        {
          "output_type": "stream",
          "name": "stdout",
          "text": [
            "Restricted license - for non-production use only - expires 2023-10-25\n"
          ]
        }
      ],
      "source": [
        "# Declare and initialize model\n",
        "m = Model('RAP')"
      ]
    },
    {
      "cell_type": "markdown",
      "metadata": {
        "id": "NVH7ikCG6sTV"
      },
      "source": [
        "## Decision variables\n",
        "\n",
        "The decision variable $x_{r,\\; j} = 1$ represents that user r is assigned to task j, and 0 otherwise, for $r \\in R$ and $j \\in J $.\n",
        "\n",
        "The “addVars()” method defines the decision variables of the model object “m”.  "
      ]
    },
    {
      "cell_type": "code",
      "execution_count": 7,
      "metadata": {
        "id": "2vVPiS3x6sTV"
      },
      "outputs": [],
      "source": [
        "# Create decision variables for the RAP model\n",
        "x = m.addVars(combinations, vtype=GRB.INTEGER, name=\"assign\")"
      ]
    },
    {
      "cell_type": "markdown",
      "metadata": {
        "id": "wmJjqhqp6sTV"
      },
      "source": [
        "## Task constraints\n",
        "\n",
        "For each task 𝑗= A,B,C, exactly one user from r=1,2,3 must be assigned.\n",
        "\n",
        "Constraint (A=1): $x_{1,\\; 1} + x_{2,\\; 1} + x_{3,\\; 1} = 1$\n",
        "\n",
        "Constraint (B=2): $x_{1,\\; 2} + x_{2,\\; 2} + x_{3,\\; 2} = 1$\n",
        "\n",
        "Constraint (C=3): $x_{1,\\; 3} + x_{2,\\; 3} + x_{3,\\; 3} = 1$\n",
        "\n",
        "The “addConstrs()” method defines the constraints of the model object “m”. \n"
      ]
    },
    {
      "cell_type": "code",
      "execution_count": 8,
      "metadata": {
        "id": "A9ngRm_E6sTV"
      },
      "outputs": [],
      "source": [
        "# create tasks  constraints\n",
        "job = m.addConstrs((x.sum('*',j) == 1 for j in J), 'task')"
      ]
    },
    {
      "cell_type": "markdown",
      "metadata": {
        "id": "P23sG_4I6sTW"
      },
      "source": [
        "## User constraints\n",
        "\n",
        "For each user r=1,2,3, at most one task from r=1,2,3 can be assigned.\n",
        "\n",
        "Constraint (1): $x_{1,\\; 1} + x_{1,\\; 2} + x_{1,\\; 3}  \\leq 1$\n",
        "\n",
        "Constraint (2): $x_{2,\\; 1} + x_{2,\\; 2} + x_{2,\\; 3}  \\leq 1$\n",
        "\n",
        "Constraint (3): $x_{3,\\; 1} + x_{3,\\; 2} + x_{3,\\; 3}  \\leq 1$\n",
        "\n",
        "The “addConstrs()” method defines the constraints of the model object “m”. "
      ]
    },
    {
      "cell_type": "code",
      "execution_count": 10,
      "metadata": {
        "id": "9cR8q9jh6sTW"
      },
      "outputs": [],
      "source": [
        "# create resources constraints\n",
        "resource = m.addConstrs((x.sum(r,'*') <= 1 for r in R), 'user')"
      ]
    },
    {
      "cell_type": "markdown",
      "metadata": {
        "id": "qc9lSCT-6sTW"
      },
      "source": [
        "## Objective Function\n",
        "\n",
        "The objective function is to maximize the total quality score of the assignments.\n",
        "\n",
        "$$\n",
        "Max \\; (53x_{1,\\; 1} + 80x_{2,\\; 1} + 53x_{3,\\; 1}) + (27x_{1,\\; 2} + 47x_{2,\\; 2} + 73x_{3,\\; 2})\n",
        "+ (13x_{1,\\; 3} + 67x_{2,\\; 3} + 47x_{3,\\; 3})\n",
        "$$\n",
        "\n",
        "The “setObjective()” method defines the objective function of the model object “m”. "
      ]
    },
    {
      "cell_type": "code",
      "execution_count": 12,
      "metadata": {
        "id": "a1W93VP-6sTW"
      },
      "outputs": [],
      "source": [
        "# The objective is to maximize total matching score of the assignments\n",
        "m.setObjective(x.prod(ms), GRB.MAXIMIZE)"
      ]
    },
    {
      "cell_type": "markdown",
      "metadata": {
        "id": "NKDSIK5R6sTW"
      },
      "source": [
        "## Objective function\n",
        "Notice that \n",
        "$$\n",
        "(53x_{1,\\; 1} + 80x_{2,\\; 1} + 53x_{3,\\; 1}) = \\sum_{r \\; \\in \\; R} ms_{r,1}x_{r,1} \\\\\n",
        "(27x_{1,\\; 2} + 47x_{2,\\; 2} + 73x_{3,\\; 2}) = \\sum_{r \\; \\in \\; R} ms_{r,2}x_{r,2} \\\\\n",
        "(13x_{1,\\; 3} + 67x_{2,\\; 3} + 47x_{3,\\; 3})  = \\sum_{r \\; \\in \\; R} ms_{r,3}x_{r,3}\n",
        "$$\n",
        "\n",
        "Hence, the objective function can be expressed as follows\n",
        "\n",
        "$$\n",
        "Max \\; \\sum_{j \\; \\in \\; J} \\sum_{r \\; \\in \\; R} ms_{r,j}x_{r,j}\n",
        "$$"
      ]
    },
    {
      "cell_type": "code",
      "execution_count": 13,
      "metadata": {
        "id": "jr-ffgqL6sTW",
        "colab": {
          "base_uri": "https://localhost:8080/"
        },
        "outputId": "86e1b34f-248a-42ce-be56-c42f72b6e302"
      },
      "outputs": [
        {
          "output_type": "stream",
          "name": "stdout",
          "text": [
            "Warning: linear constraint 3 and linear constraint 6 have the same name \"user[1]\"\n"
          ]
        }
      ],
      "source": [
        "# save model for inspection\n",
        "m.write('RAP.lp')"
      ]
    },
    {
      "cell_type": "code",
      "execution_count": 15,
      "metadata": {
        "colab": {
          "base_uri": "https://localhost:8080/"
        },
        "id": "vYfGtoJ56sTW",
        "outputId": "5e5fb854-fc43-4fb3-e0a2-24d24ec323c3"
      },
      "outputs": [
        {
          "output_type": "stream",
          "name": "stdout",
          "text": [
            "Gurobi Optimizer version 9.5.1 build v9.5.1rc2 (linux64)\n",
            "Thread count: 1 physical cores, 2 logical processors, using up to 2 threads\n",
            "Optimize a model with 9 rows, 9 columns and 27 nonzeros\n",
            "Model fingerprint: 0xbf14f822\n",
            "Variable types: 0 continuous, 9 integer (0 binary)\n",
            "Coefficient statistics:\n",
            "  Matrix range     [1e+00, 1e+00]\n",
            "  Objective range  [1e+01, 8e+01]\n",
            "  Bounds range     [0e+00, 0e+00]\n",
            "  RHS range        [1e+00, 1e+00]\n",
            "Presolved: 6 rows, 9 columns, 18 nonzeros\n",
            "\n",
            "Continuing optimization...\n",
            "\n",
            "\n",
            "Explored 1 nodes (0 simplex iterations) in 0.01 seconds (0.00 work units)\n",
            "Thread count was 2 (of 2 available processors)\n",
            "\n",
            "Solution count 1: 193 \n",
            "\n",
            "Optimal solution found (tolerance 1.00e-04)\n",
            "Best objective 1.930000000000e+02, best bound 1.930000000000e+02, gap 0.0000%\n"
          ]
        }
      ],
      "source": [
        "# run optimization engine\n",
        "m.optimize()"
      ]
    },
    {
      "cell_type": "code",
      "execution_count": 16,
      "metadata": {
        "colab": {
          "base_uri": "https://localhost:8080/"
        },
        "id": "MnDWB96R6sTX",
        "outputId": "520ede10-1cb3-4373-f294-98574366933f"
      },
      "outputs": [
        {
          "output_type": "stream",
          "name": "stdout",
          "text": [
            "assign[1,A]: 1.0\n",
            "assign[2,C]: 1.0\n",
            "assign[3,B]: 1.0\n",
            "Total quality score: 193.0\n"
          ]
        }
      ],
      "source": [
        "def print_solution(model):\n",
        "    for var in model.getVars():\n",
        "        if abs(var.x) > 1e-6:\n",
        "            print(\"{0}: {1}\".format(var.varName, var.x))\n",
        "    print('Total quality score: {0}'.format(model.objVal))\n",
        "    return None\n",
        "\n",
        "# display optimal values of decision variables\n",
        "print_solution(m)   \n"
      ]
    },
    {
      "cell_type": "markdown",
      "metadata": {
        "id": "DfJyfb3C6sTX"
      },
      "source": [
        "**Task 7:** Solve Example 1 using gurobipy"
      ]
    },
    {
      "cell_type": "markdown",
      "metadata": {
        "id": "YWWTmLN16sTX"
      },
      "source": [
        "**Solution to Task 7:** See the next snippet"
      ]
    },
    {
      "cell_type": "code",
      "execution_count": 19,
      "metadata": {
        "id": "aXuvwFSX6sTX"
      },
      "outputs": [],
      "source": [
        "# Uncomment the following line to see the solution\n",
        "#%load ./sol7.py"
      ]
    },
    {
      "cell_type": "markdown",
      "metadata": {
        "id": "ZxBEiht-6sTX"
      },
      "source": [
        "## 4. Quadratic programming - Portfolio optimisation"
      ]
    },
    {
      "cell_type": "markdown",
      "metadata": {
        "id": "PFY_ZHuc6sTX"
      },
      "source": [
        "So far we have considered linear programs, that is, the objective function was a linear function and so are the constraints. We now turn our attention to a more general class of programs, where the objective function can be a quadratic function. \n",
        "\n",
        "In last week's lecture we discussed Markowitz's [portfolio optimisation](https://en.wikipedia.org/wiki/Markowitz_model) problem. In that, we want to find the fraction of the portfolio to invest among a set of stocks that balances risk and return. It is a Quadratic Programming (QP) model with vector and matrix data for returns and risk, respectively.  \n",
        "\n",
        "See also slides 3 to 9 from last week's lecture.\n",
        "\n",
        "\n",
        "## Model Formulation\n",
        "### Parameters\n",
        "\n",
        "We use the following notation:\n",
        "\n",
        "- $\\mathbf{\\mu}$: n-element vector denoting the return for each stock\n",
        "- $Q$: n x n matrix measuring the covariance among stocks. In the lecture, we modelled $q_{ij}$ as $q_{ij} = \\rho_{ij}\\sigma_i\\sigma_j$, where $\\rho_{ij}$ is the *correlation coefficient* and $\\sigma_i, \\sigma_j$ are the *standard deviations* for stocks $i$ and $j$ respectively.\n",
        "\n",
        "There is one additional parameter when solving the model parametrically:\n",
        "\n",
        "- R: target return\n",
        "\n",
        "\n",
        "### Decision Variables\n",
        "- $x \\ge 0$: n-element vector where each element represents the fraction of the portfolio to invest in each stock\n",
        "\n",
        "### Objective Function\n",
        "Minimize the total risk, a convex quadratic function:\n",
        "\n",
        "\\begin{equation}\n",
        "\\min x^T Q x\n",
        "\\end{equation}\n",
        "\n",
        "### Constraints\n",
        "\n",
        "Allocate the entire portfolio: the total investments should be 1.0 (100%), where $\\mathbf{1}$ is a unit vector (all 1's):\n",
        "\n",
        "\\begin{equation}\n",
        "\\mathbf{1}^T  x = 1\n",
        "\\end{equation}\n",
        "\n",
        "\n",
        "Return: In the lecture we set a constraint that the target return should be at least $R$. When we solve the model parametrically for different return values $r$, we add an equality constraint on the target return:\n",
        "\n",
        "\\begin{equation}\n",
        "\\mathbf{\\mu} x = R\n",
        "\\end{equation}"
      ]
    },
    {
      "cell_type": "markdown",
      "metadata": {
        "id": "txgh5et_6sTX"
      },
      "source": [
        "## Python Implementation\n",
        "### Stock data\n",
        "Use [yfinance](https://pypi.org/project/yfinance/) library to get the latest 2 years of _actual stock data_ from the 20 most profitable US companies, [according to Wikipedia](https://en.wikipedia.org/wiki/List_of_largest_companies_in_the_United_States_by_revenue#List_of_companies_by_profit)."
      ]
    },
    {
      "cell_type": "code",
      "execution_count": 20,
      "metadata": {
        "colab": {
          "base_uri": "https://localhost:8080/"
        },
        "id": "yLZOTT3I6sTY",
        "outputId": "c23951fd-f352-4a18-e7fa-8e68c985a5e9"
      },
      "outputs": [
        {
          "output_type": "stream",
          "name": "stdout",
          "text": [
            "Requirement already satisfied: gurobipy in /root/.local/lib/python3.7/site-packages (9.5.1)\n",
            "Requirement already satisfied: yfinance in /root/.local/lib/python3.7/site-packages (0.1.70)\n",
            "Requirement already satisfied: multitasking>=0.0.7 in /usr/local/lib/python3.7/dist-packages (from yfinance) (0.0.10)\n",
            "Requirement already satisfied: lxml>=4.5.1 in /root/.local/lib/python3.7/site-packages (from yfinance) (4.8.0)\n",
            "Requirement already satisfied: pandas>=0.24.0 in /usr/local/lib/python3.7/dist-packages (from yfinance) (1.3.5)\n",
            "Requirement already satisfied: numpy>=1.15 in /usr/local/lib/python3.7/dist-packages (from yfinance) (1.21.6)\n",
            "Requirement already satisfied: requests>=2.26 in /root/.local/lib/python3.7/site-packages (from yfinance) (2.27.1)\n",
            "Requirement already satisfied: pytz>=2017.3 in /usr/local/lib/python3.7/dist-packages (from pandas>=0.24.0->yfinance) (2022.1)\n",
            "Requirement already satisfied: python-dateutil>=2.7.3 in /usr/local/lib/python3.7/dist-packages (from pandas>=0.24.0->yfinance) (2.8.2)\n",
            "Requirement already satisfied: six>=1.5 in /usr/local/lib/python3.7/dist-packages (from python-dateutil>=2.7.3->pandas>=0.24.0->yfinance) (1.15.0)\n",
            "Requirement already satisfied: urllib3<1.27,>=1.21.1 in /usr/local/lib/python3.7/dist-packages (from requests>=2.26->yfinance) (1.24.3)\n",
            "Requirement already satisfied: certifi>=2017.4.17 in /usr/local/lib/python3.7/dist-packages (from requests>=2.26->yfinance) (2021.10.8)\n",
            "Requirement already satisfied: idna<4,>=2.5 in /usr/local/lib/python3.7/dist-packages (from requests>=2.26->yfinance) (2.10)\n",
            "Requirement already satisfied: charset-normalizer~=2.0.0 in /usr/local/lib/python3.7/dist-packages (from requests>=2.26->yfinance) (2.0.12)\n"
          ]
        }
      ],
      "source": [
        "!pip install gurobipy yfinance --user"
      ]
    },
    {
      "cell_type": "code",
      "execution_count": 21,
      "metadata": {
        "colab": {
          "base_uri": "https://localhost:8080/"
        },
        "id": "ZOxyQCnu6sTY",
        "outputId": "f8160105-f6c0-4f86-8595-2b86dd94767e"
      },
      "outputs": [
        {
          "output_type": "stream",
          "name": "stdout",
          "text": [
            "[*********************100%***********************]  20 of 20 completed\n"
          ]
        }
      ],
      "source": [
        "import yfinance as yf\n",
        "\n",
        "stocks = ['BRK-A', 'AAPL', 'MSFT', 'JPM', 'GOOG', 'BAC', 'INTC', 'WFC',\n",
        "          'C', 'VZ', 'FB', 'PFE', 'JNJ', 'WMT', 'XOM',\n",
        "          'FNMA', 'T', 'UNH', 'CMCSA', 'V' ]\n",
        "\n",
        "data = yf.download(stocks, period='2y')"
      ]
    },
    {
      "cell_type": "markdown",
      "metadata": {
        "id": "WsXyubc56sTY"
      },
      "source": [
        "### Compute return and covariance\n",
        "\n",
        "Using the downloaded stock data, find $\\mu$ (return), $Q$ (covariance) and standard deviation values for stock prices:"
      ]
    },
    {
      "cell_type": "code",
      "execution_count": 22,
      "metadata": {
        "id": "ZJjjJlQA6sTY"
      },
      "outputs": [],
      "source": [
        "import numpy as np\n",
        "\n",
        "closes = np.transpose(np.array(data.Close)) # matrix of daily closing prices\n",
        "absdiff = np.diff(closes)                   # change in closing price each day\n",
        "reldiff = np.divide(absdiff, closes[:,:-1]) # relative change in daily closing price\n",
        "mu = np.mean(reldiff, axis=1)            # mean price change\n",
        "Q = np.cov(reldiff)                     # covariance (standard deviations)\n",
        "std = np.std(reldiff, axis=1)               # standard deviation"
      ]
    },
    {
      "cell_type": "markdown",
      "metadata": {
        "id": "MnQ0prv66sTY"
      },
      "source": [
        "## Minimise risk by solving QP model"
      ]
    },
    {
      "cell_type": "code",
      "execution_count": 23,
      "metadata": {
        "colab": {
          "base_uri": "https://localhost:8080/"
        },
        "id": "7-88FFZS6sTY",
        "outputId": "ed932892-f874-4fd6-e7e0-c9b39e93a24f"
      },
      "outputs": [
        {
          "output_type": "stream",
          "name": "stdout",
          "text": [
            "Gurobi Optimizer version 9.5.1 build v9.5.1rc2 (linux64)\n",
            "Thread count: 1 physical cores, 2 logical processors, using up to 2 threads\n",
            "Optimize a model with 1 rows, 20 columns and 20 nonzeros\n",
            "Model fingerprint: 0xb2076f27\n",
            "Model has 210 quadratic objective terms\n",
            "Coefficient statistics:\n",
            "  Matrix range     [1e+00, 1e+00]\n",
            "  Objective range  [0e+00, 0e+00]\n",
            "  QObjective range [1e-05, 3e-03]\n",
            "  Bounds range     [0e+00, 0e+00]\n",
            "  RHS range        [1e+00, 1e+00]\n",
            "Presolve time: 0.02s\n",
            "Presolved: 1 rows, 20 columns, 20 nonzeros\n",
            "Presolved model has 210 quadratic objective terms\n",
            "Ordering time: 0.00s\n",
            "\n",
            "Barrier statistics:\n",
            " Free vars  : 19\n",
            " AA' NZ     : 1.900e+02\n",
            " Factor NZ  : 2.100e+02\n",
            " Factor Ops : 2.870e+03 (less than 1 second per iteration)\n",
            " Threads    : 1\n",
            "\n",
            "                  Objective                Residual\n",
            "Iter       Primal          Dual         Primal    Dual     Compl     Time\n",
            "   0   2.08214921e+05 -2.08214921e+05  1.42e+04 2.01e-06  1.00e+06     0s\n",
            "   1   8.69467268e+04 -8.69675793e+04  1.08e+03 1.52e-07  8.35e+04     0s\n",
            "   2   6.35924406e+02 -6.60253014e+02  2.68e+01 3.77e-09  2.15e+03     0s\n",
            "   3   5.43858795e-03 -2.50348390e+01  3.15e-02 4.44e-12  3.78e+00     0s\n",
            "   4   6.11634763e-04 -1.14629898e+01  3.15e-08 1.39e-17  5.73e-01     0s\n",
            "   5   6.11428893e-04 -1.20798747e-02  3.38e-12 1.56e-13  6.35e-04     0s\n",
            "   6   4.60063504e-04 -4.73433278e-04  6.94e-14 3.00e-15  4.67e-05     0s\n",
            "   7   1.19938972e-04 -3.17761724e-04  3.47e-18 1.04e-17  2.19e-05     0s\n",
            "   8   7.09190215e-05  1.19795901e-05  3.47e-18 2.60e-18  2.95e-06     0s\n",
            "   9   5.85929953e-05  4.76462434e-05  1.04e-17 8.67e-19  5.47e-07     0s\n",
            "  10   5.64456507e-05  5.47484078e-05  6.94e-18 2.60e-18  8.49e-08     0s\n",
            "  11   5.60546527e-05  5.58719618e-05  5.20e-18 2.14e-18  9.13e-09     0s\n",
            "  12   5.59601937e-05  5.59487802e-05  1.56e-17 7.04e-19  5.71e-10     0s\n",
            "  13   5.59537997e-05  5.59535925e-05  1.14e-16 1.77e-18  1.04e-11     0s\n",
            "\n",
            "Barrier solved model in 13 iterations and 0.06 seconds (0.00 work units)\n",
            "Optimal objective 5.59537997e-05\n",
            "\n"
          ]
        }
      ],
      "source": [
        "import gurobipy as gp\n",
        "from gurobipy import GRB\n",
        "from math import sqrt\n",
        "\n",
        "# Create an empty model\n",
        "m = gp.Model('portfolio')\n",
        "\n",
        "# Add matrix variable for the stocks\n",
        "x = m.addMVar(len(stocks))\n",
        "\n",
        "# The objective is to minimise risk (squared).  This is modeled using the\n",
        "# covariance matrix, which measures the historical correlation between stocks\n",
        "portfolio_risk = x @ Q @ x\n",
        "m.setObjective(portfolio_risk, GRB.MINIMIZE)\n",
        "\n",
        "# Fix budget with an equality constraint\n",
        "m.addConstr(x.sum() == 1, 'budget')\n",
        "\n",
        "# Verify model formulation\n",
        "m.write('portfolio_selection_optimization.lp')\n",
        "\n",
        "# Optimize model to find the minimum risk portfolio\n",
        "m.optimize()"
      ]
    },
    {
      "cell_type": "markdown",
      "metadata": {
        "id": "hY5B7xGZ6sTZ"
      },
      "source": [
        "**Task 8:** What have we computed above? Is there something \"missing\" from the quadratic program?\n",
        "**Solution** Click on *Details* below to reveal it."
      ]
    },
    {
      "cell_type": "markdown",
      "metadata": {
        "id": "5UUQKRXj6sTZ"
      },
      "source": [
        "<details>\n",
        "    There is no constraint on the expected return. In effect, we are computing the minimum risk portfolio without any interest in our return.\n",
        "</details>"
      ]
    },
    {
      "cell_type": "markdown",
      "metadata": {
        "id": "rM_3Fyb46sTZ"
      },
      "source": [
        "## Display minimum risk portfolio using Pandas"
      ]
    },
    {
      "cell_type": "code",
      "execution_count": 24,
      "metadata": {
        "colab": {
          "base_uri": "https://localhost:8080/",
          "height": 739
        },
        "id": "cK6Es-Aj6sTZ",
        "outputId": "f0984071-718f-4d52-9a39-6cadf0d948e1"
      },
      "outputs": [
        {
          "output_type": "execute_result",
          "data": {
            "text/plain": [
              "                 Minimum Risk Portfolio\n",
              "BRK-A                      5.016482e-08\n",
              "AAPL                       2.284404e-07\n",
              "MSFT                       3.204675e-02\n",
              "JPM                        5.057273e-06\n",
              "GOOG                       5.970849e-06\n",
              "BAC                        4.996982e-08\n",
              "INTC                       3.811300e-02\n",
              "WFC                        6.848889e-07\n",
              "C                          2.515551e-02\n",
              "VZ                         2.341271e-01\n",
              "FB                         2.297291e-03\n",
              "PFE                        8.117587e-02\n",
              "JNJ                        4.738694e-02\n",
              "WMT                        2.892654e-02\n",
              "XOM                        7.993119e-08\n",
              "FNMA                       1.526360e-07\n",
              "T                          3.094919e-01\n",
              "UNH                        4.921784e-08\n",
              "CMCSA                      1.939307e-01\n",
              "V                          7.336089e-03\n",
              "Volatility                 7.480227e-03\n",
              "Expected Return            1.811019e-04"
            ],
            "text/html": [
              "\n",
              "  <div id=\"df-b9f4f642-489d-4c83-ac22-9eb7eb39c4ff\">\n",
              "    <div class=\"colab-df-container\">\n",
              "      <div>\n",
              "<style scoped>\n",
              "    .dataframe tbody tr th:only-of-type {\n",
              "        vertical-align: middle;\n",
              "    }\n",
              "\n",
              "    .dataframe tbody tr th {\n",
              "        vertical-align: top;\n",
              "    }\n",
              "\n",
              "    .dataframe thead th {\n",
              "        text-align: right;\n",
              "    }\n",
              "</style>\n",
              "<table border=\"1\" class=\"dataframe\">\n",
              "  <thead>\n",
              "    <tr style=\"text-align: right;\">\n",
              "      <th></th>\n",
              "      <th>Minimum Risk Portfolio</th>\n",
              "    </tr>\n",
              "  </thead>\n",
              "  <tbody>\n",
              "    <tr>\n",
              "      <th>BRK-A</th>\n",
              "      <td>5.016482e-08</td>\n",
              "    </tr>\n",
              "    <tr>\n",
              "      <th>AAPL</th>\n",
              "      <td>2.284404e-07</td>\n",
              "    </tr>\n",
              "    <tr>\n",
              "      <th>MSFT</th>\n",
              "      <td>3.204675e-02</td>\n",
              "    </tr>\n",
              "    <tr>\n",
              "      <th>JPM</th>\n",
              "      <td>5.057273e-06</td>\n",
              "    </tr>\n",
              "    <tr>\n",
              "      <th>GOOG</th>\n",
              "      <td>5.970849e-06</td>\n",
              "    </tr>\n",
              "    <tr>\n",
              "      <th>BAC</th>\n",
              "      <td>4.996982e-08</td>\n",
              "    </tr>\n",
              "    <tr>\n",
              "      <th>INTC</th>\n",
              "      <td>3.811300e-02</td>\n",
              "    </tr>\n",
              "    <tr>\n",
              "      <th>WFC</th>\n",
              "      <td>6.848889e-07</td>\n",
              "    </tr>\n",
              "    <tr>\n",
              "      <th>C</th>\n",
              "      <td>2.515551e-02</td>\n",
              "    </tr>\n",
              "    <tr>\n",
              "      <th>VZ</th>\n",
              "      <td>2.341271e-01</td>\n",
              "    </tr>\n",
              "    <tr>\n",
              "      <th>FB</th>\n",
              "      <td>2.297291e-03</td>\n",
              "    </tr>\n",
              "    <tr>\n",
              "      <th>PFE</th>\n",
              "      <td>8.117587e-02</td>\n",
              "    </tr>\n",
              "    <tr>\n",
              "      <th>JNJ</th>\n",
              "      <td>4.738694e-02</td>\n",
              "    </tr>\n",
              "    <tr>\n",
              "      <th>WMT</th>\n",
              "      <td>2.892654e-02</td>\n",
              "    </tr>\n",
              "    <tr>\n",
              "      <th>XOM</th>\n",
              "      <td>7.993119e-08</td>\n",
              "    </tr>\n",
              "    <tr>\n",
              "      <th>FNMA</th>\n",
              "      <td>1.526360e-07</td>\n",
              "    </tr>\n",
              "    <tr>\n",
              "      <th>T</th>\n",
              "      <td>3.094919e-01</td>\n",
              "    </tr>\n",
              "    <tr>\n",
              "      <th>UNH</th>\n",
              "      <td>4.921784e-08</td>\n",
              "    </tr>\n",
              "    <tr>\n",
              "      <th>CMCSA</th>\n",
              "      <td>1.939307e-01</td>\n",
              "    </tr>\n",
              "    <tr>\n",
              "      <th>V</th>\n",
              "      <td>7.336089e-03</td>\n",
              "    </tr>\n",
              "    <tr>\n",
              "      <th>Volatility</th>\n",
              "      <td>7.480227e-03</td>\n",
              "    </tr>\n",
              "    <tr>\n",
              "      <th>Expected Return</th>\n",
              "      <td>1.811019e-04</td>\n",
              "    </tr>\n",
              "  </tbody>\n",
              "</table>\n",
              "</div>\n",
              "      <button class=\"colab-df-convert\" onclick=\"convertToInteractive('df-b9f4f642-489d-4c83-ac22-9eb7eb39c4ff')\"\n",
              "              title=\"Convert this dataframe to an interactive table.\"\n",
              "              style=\"display:none;\">\n",
              "        \n",
              "  <svg xmlns=\"http://www.w3.org/2000/svg\" height=\"24px\"viewBox=\"0 0 24 24\"\n",
              "       width=\"24px\">\n",
              "    <path d=\"M0 0h24v24H0V0z\" fill=\"none\"/>\n",
              "    <path d=\"M18.56 5.44l.94 2.06.94-2.06 2.06-.94-2.06-.94-.94-2.06-.94 2.06-2.06.94zm-11 1L8.5 8.5l.94-2.06 2.06-.94-2.06-.94L8.5 2.5l-.94 2.06-2.06.94zm10 10l.94 2.06.94-2.06 2.06-.94-2.06-.94-.94-2.06-.94 2.06-2.06.94z\"/><path d=\"M17.41 7.96l-1.37-1.37c-.4-.4-.92-.59-1.43-.59-.52 0-1.04.2-1.43.59L10.3 9.45l-7.72 7.72c-.78.78-.78 2.05 0 2.83L4 21.41c.39.39.9.59 1.41.59.51 0 1.02-.2 1.41-.59l7.78-7.78 2.81-2.81c.8-.78.8-2.07 0-2.86zM5.41 20L4 18.59l7.72-7.72 1.47 1.35L5.41 20z\"/>\n",
              "  </svg>\n",
              "      </button>\n",
              "      \n",
              "  <style>\n",
              "    .colab-df-container {\n",
              "      display:flex;\n",
              "      flex-wrap:wrap;\n",
              "      gap: 12px;\n",
              "    }\n",
              "\n",
              "    .colab-df-convert {\n",
              "      background-color: #E8F0FE;\n",
              "      border: none;\n",
              "      border-radius: 50%;\n",
              "      cursor: pointer;\n",
              "      display: none;\n",
              "      fill: #1967D2;\n",
              "      height: 32px;\n",
              "      padding: 0 0 0 0;\n",
              "      width: 32px;\n",
              "    }\n",
              "\n",
              "    .colab-df-convert:hover {\n",
              "      background-color: #E2EBFA;\n",
              "      box-shadow: 0px 1px 2px rgba(60, 64, 67, 0.3), 0px 1px 3px 1px rgba(60, 64, 67, 0.15);\n",
              "      fill: #174EA6;\n",
              "    }\n",
              "\n",
              "    [theme=dark] .colab-df-convert {\n",
              "      background-color: #3B4455;\n",
              "      fill: #D2E3FC;\n",
              "    }\n",
              "\n",
              "    [theme=dark] .colab-df-convert:hover {\n",
              "      background-color: #434B5C;\n",
              "      box-shadow: 0px 1px 3px 1px rgba(0, 0, 0, 0.15);\n",
              "      filter: drop-shadow(0px 1px 2px rgba(0, 0, 0, 0.3));\n",
              "      fill: #FFFFFF;\n",
              "    }\n",
              "  </style>\n",
              "\n",
              "      <script>\n",
              "        const buttonEl =\n",
              "          document.querySelector('#df-b9f4f642-489d-4c83-ac22-9eb7eb39c4ff button.colab-df-convert');\n",
              "        buttonEl.style.display =\n",
              "          google.colab.kernel.accessAllowed ? 'block' : 'none';\n",
              "\n",
              "        async function convertToInteractive(key) {\n",
              "          const element = document.querySelector('#df-b9f4f642-489d-4c83-ac22-9eb7eb39c4ff');\n",
              "          const dataTable =\n",
              "            await google.colab.kernel.invokeFunction('convertToInteractive',\n",
              "                                                     [key], {});\n",
              "          if (!dataTable) return;\n",
              "\n",
              "          const docLinkHtml = 'Like what you see? Visit the ' +\n",
              "            '<a target=\"_blank\" href=https://colab.research.google.com/notebooks/data_table.ipynb>data table notebook</a>'\n",
              "            + ' to learn more about interactive tables.';\n",
              "          element.innerHTML = '';\n",
              "          dataTable['output_type'] = 'display_data';\n",
              "          await google.colab.output.renderOutput(dataTable, element);\n",
              "          const docLink = document.createElement('div');\n",
              "          docLink.innerHTML = docLinkHtml;\n",
              "          element.appendChild(docLink);\n",
              "        }\n",
              "      </script>\n",
              "    </div>\n",
              "  </div>\n",
              "  "
            ]
          },
          "metadata": {},
          "execution_count": 24
        }
      ],
      "source": [
        "import pandas as pd\n",
        "minrisk_volatility = sqrt(m.ObjVal)\n",
        "minrisk_return = mu @ x.X # the notation <variable name>.X returns the value of the variable\n",
        "pd.DataFrame(data=np.append(x.X, [minrisk_volatility, minrisk_return]),\n",
        "             index=stocks + ['Volatility', 'Expected Return'],\n",
        "             columns=['Minimum Risk Portfolio'])"
      ]
    },
    {
      "cell_type": "markdown",
      "metadata": {
        "id": "dgfMDj0N6sTZ"
      },
      "source": [
        "## Compute the [efficient frontier](https://en.wikipedia.org/wiki/Efficient_frontier)\n",
        "\n",
        "Solve the QP parametrically to find the lowest risk portfolio for different expected returns.\n"
      ]
    },
    {
      "cell_type": "code",
      "execution_count": 25,
      "metadata": {
        "colab": {
          "base_uri": "https://localhost:8080/"
        },
        "id": "uwXJpP4X6sTZ",
        "outputId": "7e947217-97f8-42d5-a208-f4d2ed8a75b5"
      },
      "outputs": [
        {
          "output_type": "stream",
          "name": "stdout",
          "text": [
            "Gurobi Optimizer version 9.5.1 build v9.5.1rc2 (linux64)\n",
            "Thread count: 1 physical cores, 2 logical processors, using up to 2 threads\n",
            "Optimize a model with 2 rows, 20 columns and 40 nonzeros\n",
            "Model fingerprint: 0x51e9a577\n",
            "Model has 210 quadratic objective terms\n",
            "Coefficient statistics:\n",
            "  Matrix range     [7e-05, 1e+00]\n",
            "  Objective range  [0e+00, 0e+00]\n",
            "  QObjective range [1e-05, 3e-03]\n",
            "  Bounds range     [0e+00, 0e+00]\n",
            "  RHS range        [9e-04, 1e+00]\n",
            "Presolve time: 0.02s\n",
            "Presolved: 2 rows, 20 columns, 40 nonzeros\n",
            "Presolved model has 210 quadratic objective terms\n",
            "Ordering time: 0.00s\n",
            "\n",
            "Barrier statistics:\n",
            " Free vars  : 19\n",
            " AA' NZ     : 2.100e+02\n",
            " Factor NZ  : 2.310e+02\n",
            " Factor Ops : 3.311e+03 (less than 1 second per iteration)\n",
            " Threads    : 1\n",
            "\n",
            "                  Objective                Residual\n",
            "Iter       Primal          Dual         Primal    Dual     Compl     Time\n",
            "   0   2.08254044e+05 -2.08254044e+05  1.42e+04 3.44e-03  1.00e+06     0s\n",
            "   1   8.40068375e+04 -8.40285059e+04  1.17e+03 2.84e-04  8.98e+04     0s\n",
            "   2   4.58567373e+02 -4.90923911e+02  3.67e+01 8.86e-06  2.92e+03     0s\n",
            "   3   2.03225227e-03 -3.25563028e+01  5.58e-02 1.35e-08  6.08e+00     0s\n",
            "   4   1.05960850e-03 -8.66073275e-01  3.89e-03 9.39e-10  4.02e-01     0s\n",
            "   5   1.70287814e-03 -2.42068660e-02  1.84e-05 4.46e-12  3.06e-03     0s\n",
            "   6   1.70315715e-03  1.65131161e-03  1.85e-08 4.47e-15  4.36e-06     0s\n",
            "   7   1.70315743e-03  1.70310558e-03  1.85e-11 6.94e-18  4.36e-09     0s\n",
            "   8   1.70315743e-03  1.70315738e-03  1.46e-14 4.55e-13  4.37e-12     0s\n",
            "\n",
            "Barrier solved model in 8 iterations and 0.06 seconds (0.00 work units)\n",
            "Optimal objective 1.70315743e-03\n",
            "\n",
            "Gurobi Optimizer version 9.5.1 build v9.5.1rc2 (linux64)\n",
            "Thread count: 1 physical cores, 2 logical processors, using up to 2 threads\n",
            "Optimize a model with 2 rows, 20 columns and 40 nonzeros\n",
            "Model fingerprint: 0x6f99d592\n",
            "Model has 210 quadratic objective terms\n",
            "Coefficient statistics:\n",
            "  Matrix range     [7e-05, 1e+00]\n",
            "  Objective range  [0e+00, 0e+00]\n",
            "  QObjective range [1e-05, 3e-03]\n",
            "  Bounds range     [0e+00, 0e+00]\n",
            "  RHS range        [8e-04, 1e+00]\n",
            "Presolve time: 0.01s\n",
            "Presolved: 2 rows, 20 columns, 40 nonzeros\n",
            "Presolved model has 210 quadratic objective terms\n",
            "Ordering time: 0.00s\n",
            "\n",
            "Barrier statistics:\n",
            " Free vars  : 19\n",
            " AA' NZ     : 2.100e+02\n",
            " Factor NZ  : 2.310e+02\n",
            " Factor Ops : 3.311e+03 (less than 1 second per iteration)\n",
            " Threads    : 1\n",
            "\n",
            "                  Objective                Residual\n",
            "Iter       Primal          Dual         Primal    Dual     Compl     Time\n",
            "   0   2.08256774e+05 -2.08256774e+05  1.42e+04 3.68e-03  1.00e+06     0s\n",
            "   1   8.40066077e+04 -8.40281990e+04  1.17e+03 3.04e-04  8.98e+04     0s\n",
            "   2   4.58554526e+02 -4.90381635e+02  3.67e+01 9.48e-06  2.92e+03     0s\n",
            "   3   1.87652613e-03 -3.20428972e+01  5.36e-02 1.39e-08  5.87e+00     0s\n",
            "   4   8.86005179e-04 -2.61338128e+00  3.03e-03 7.82e-10  3.91e-01     0s\n",
            "   5   1.32482384e-03 -1.10915707e+00  3.03e-09 7.81e-16  5.55e-02     0s\n",
            "   6   1.32477584e-03 -3.27334667e-05  6.77e-13 2.07e-13  6.79e-05     0s\n",
            "   7   1.27058078e-03  1.08832440e-03  5.30e-14 1.69e-14  9.11e-06     0s\n",
            "   8   1.15121970e-03  1.08858503e-03  6.80e-16 1.11e-16  3.13e-06     0s\n",
            "   9   1.11035188e-03  1.10995253e-03  1.26e-15 5.55e-17  2.00e-08     0s\n",
            "  10   1.11006265e-03  1.11006225e-03  9.02e-16 4.16e-17  2.00e-11     0s\n",
            "\n",
            "Barrier solved model in 10 iterations and 0.07 seconds (0.00 work units)\n",
            "Optimal objective 1.11006265e-03\n",
            "\n",
            "Gurobi Optimizer version 9.5.1 build v9.5.1rc2 (linux64)\n",
            "Thread count: 1 physical cores, 2 logical processors, using up to 2 threads\n",
            "Optimize a model with 2 rows, 20 columns and 40 nonzeros\n",
            "Model fingerprint: 0x187c0c89\n",
            "Model has 210 quadratic objective terms\n",
            "Coefficient statistics:\n",
            "  Matrix range     [7e-05, 1e+00]\n",
            "  Objective range  [0e+00, 0e+00]\n",
            "  QObjective range [1e-05, 3e-03]\n",
            "  Bounds range     [0e+00, 0e+00]\n",
            "  RHS range        [7e-04, 1e+00]\n",
            "Presolve time: 0.01s\n",
            "Presolved: 2 rows, 20 columns, 40 nonzeros\n",
            "Presolved model has 210 quadratic objective terms\n",
            "Ordering time: 0.00s\n",
            "\n",
            "Barrier statistics:\n",
            " Free vars  : 19\n",
            " AA' NZ     : 2.100e+02\n",
            " Factor NZ  : 2.310e+02\n",
            " Factor Ops : 3.311e+03 (less than 1 second per iteration)\n",
            " Threads    : 1\n",
            "\n",
            "                  Objective                Residual\n",
            "Iter       Primal          Dual         Primal    Dual     Compl     Time\n",
            "   0   2.08259504e+05 -2.08259504e+05  1.42e+04 3.92e-03  1.00e+06     0s\n",
            "   1   8.40063694e+04 -8.40278835e+04  1.17e+03 3.23e-04  8.98e+04     0s\n",
            "   2   4.58541552e+02 -4.89839181e+02  3.67e+01 1.01e-05  2.92e+03     0s\n",
            "   3   1.72912774e-03 -3.15284244e+01  5.14e-02 1.42e-08  5.67e+00     0s\n",
            "   4   7.25897092e-04 -4.37919669e+00  2.39e-03 6.58e-10  4.06e-01     0s\n",
            "   5   1.00810207e-03 -1.09313614e+00  2.39e-09 6.57e-16  5.47e-02     0s\n",
            "   6   1.00796911e-03 -5.12807132e-04  9.33e-13 4.31e-14  7.60e-05     0s\n",
            "   7   8.83461518e-04  6.30719239e-04  7.86e-14 3.50e-15  1.26e-05     0s\n",
            "   8   7.37890435e-04  6.74050026e-04  1.53e-16 8.33e-17  3.19e-06     0s\n",
            "   9   6.94481622e-04  6.91947869e-04  3.96e-16 5.55e-17  1.27e-07     0s\n",
            "  10   6.92173236e-04  6.92125861e-04  4.44e-15 5.55e-17  2.37e-09     0s\n",
            "  11   6.92126518e-04  6.92126443e-04  4.97e-14 3.09e-17  3.73e-12     0s\n",
            "\n",
            "Barrier solved model in 11 iterations and 0.05 seconds (0.00 work units)\n",
            "Optimal objective 6.92126518e-04\n",
            "\n",
            "Gurobi Optimizer version 9.5.1 build v9.5.1rc2 (linux64)\n",
            "Thread count: 1 physical cores, 2 logical processors, using up to 2 threads\n",
            "Optimize a model with 2 rows, 20 columns and 40 nonzeros\n",
            "Model fingerprint: 0xfef3a885\n",
            "Model has 210 quadratic objective terms\n",
            "Coefficient statistics:\n",
            "  Matrix range     [7e-05, 1e+00]\n",
            "  Objective range  [0e+00, 0e+00]\n",
            "  QObjective range [1e-05, 3e-03]\n",
            "  Bounds range     [0e+00, 0e+00]\n",
            "  RHS range        [6e-04, 1e+00]\n",
            "Presolve time: 0.03s\n",
            "Presolved: 2 rows, 20 columns, 40 nonzeros\n",
            "Presolved model has 210 quadratic objective terms\n",
            "Ordering time: 0.00s\n",
            "\n",
            "Barrier statistics:\n",
            " Free vars  : 19\n",
            " AA' NZ     : 2.100e+02\n",
            " Factor NZ  : 2.310e+02\n",
            " Factor Ops : 3.311e+03 (less than 1 second per iteration)\n",
            " Threads    : 1\n",
            "\n",
            "                  Objective                Residual\n",
            "Iter       Primal          Dual         Primal    Dual     Compl     Time\n",
            "   0   2.08262233e+05 -2.08262233e+05  1.43e+04 4.16e-03  1.00e+06     0s\n",
            "   1   8.40061310e+04 -8.40275680e+04  1.17e+03 3.43e-04  8.98e+04     0s\n",
            "   2   4.58528581e+02 -4.89296675e+02  3.67e+01 1.07e-05  2.92e+03     0s\n",
            "   3   1.58998062e-03 -3.10128188e+01  4.93e-02 1.44e-08  5.47e+00     0s\n",
            "   4   6.02443090e-04 -5.83531784e+00  1.43e-03 4.19e-10  3.94e-01     0s\n",
            "   5   7.39502411e-04 -5.45443021e-01  1.43e-09 4.19e-16  2.73e-02     0s\n",
            "   6   7.39113197e-04 -3.35671525e-04  1.39e-12 8.67e-19  5.37e-05     0s\n",
            "   7   5.58431259e-04  3.42631076e-04  8.05e-16 1.11e-16  1.08e-05     0s\n",
            "   8   4.51988406e-04  4.13250991e-04  4.79e-16 2.78e-17  1.94e-06     0s\n",
            "   9   4.17308545e-04  4.15425268e-04  1.48e-16 5.55e-17  9.42e-08     0s\n",
            "  10   4.15758091e-04  4.15756201e-04  1.35e-16 1.39e-17  9.45e-11     0s\n",
            "\n",
            "Barrier solved model in 10 iterations and 0.08 seconds (0.00 work units)\n",
            "Optimal objective 4.15758091e-04\n",
            "\n",
            "Gurobi Optimizer version 9.5.1 build v9.5.1rc2 (linux64)\n",
            "Thread count: 1 physical cores, 2 logical processors, using up to 2 threads\n",
            "Optimize a model with 2 rows, 20 columns and 40 nonzeros\n",
            "Model fingerprint: 0xdb89340d\n",
            "Model has 210 quadratic objective terms\n",
            "Coefficient statistics:\n",
            "  Matrix range     [7e-05, 1e+00]\n",
            "  Objective range  [0e+00, 0e+00]\n",
            "  QObjective range [1e-05, 3e-03]\n",
            "  Bounds range     [0e+00, 0e+00]\n",
            "  RHS range        [5e-04, 1e+00]\n",
            "Presolve time: 0.01s\n",
            "Presolved: 2 rows, 20 columns, 40 nonzeros\n",
            "Presolved model has 210 quadratic objective terms\n",
            "Ordering time: 0.00s\n",
            "\n",
            "Barrier statistics:\n",
            " Free vars  : 19\n",
            " AA' NZ     : 2.100e+02\n",
            " Factor NZ  : 2.310e+02\n",
            " Factor Ops : 3.311e+03 (less than 1 second per iteration)\n",
            " Threads    : 1\n",
            "\n",
            "                  Objective                Residual\n",
            "Iter       Primal          Dual         Primal    Dual     Compl     Time\n",
            "   0   2.08264963e+05 -2.08264963e+05  1.43e+04 4.40e-03  1.00e+06     0s\n",
            "   1   8.40058934e+04 -8.40272532e+04  1.17e+03 3.63e-04  8.98e+04     0s\n",
            "   2   4.58515693e+02 -4.88754200e+02  3.67e+01 1.13e-05  2.92e+03     0s\n",
            "   3   1.54888716e-03 -3.04951116e+01  4.84e-02 1.50e-08  5.38e+00     0s\n",
            "   4   4.94580887e-04 -7.14315924e+00  6.52e-04 2.02e-10  3.99e-01     0s\n",
            "   5   5.40619970e-04 -1.20574814e-01  6.52e-10 2.01e-16  6.06e-03     0s\n",
            "   6   5.38665612e-04 -1.75329187e-04  2.90e-12 8.67e-19  3.57e-05     0s\n",
            "   7   3.37240144e-04 -6.44578677e-06  1.21e-16 1.39e-16  1.72e-05     0s\n",
            "   8   2.54590786e-04  2.03905811e-04  7.98e-17 2.78e-17  2.53e-06     0s\n",
            "   9   2.24860472e-04  2.22649388e-04  8.93e-17 5.55e-17  1.11e-07     0s\n",
            "  10   2.23438321e-04  2.23436112e-04  2.43e-17 2.78e-17  1.10e-10     0s\n",
            "\n",
            "Barrier solved model in 10 iterations and 0.05 seconds (0.00 work units)\n",
            "Optimal objective 2.23438321e-04\n",
            "\n",
            "Gurobi Optimizer version 9.5.1 build v9.5.1rc2 (linux64)\n",
            "Thread count: 1 physical cores, 2 logical processors, using up to 2 threads\n",
            "Optimize a model with 2 rows, 20 columns and 40 nonzeros\n",
            "Model fingerprint: 0xb1647bfc\n",
            "Model has 210 quadratic objective terms\n",
            "Coefficient statistics:\n",
            "  Matrix range     [7e-05, 1e+00]\n",
            "  Objective range  [0e+00, 0e+00]\n",
            "  QObjective range [1e-05, 3e-03]\n",
            "  Bounds range     [0e+00, 0e+00]\n",
            "  RHS range        [4e-04, 1e+00]\n",
            "Presolve time: 0.01s\n",
            "Presolved: 2 rows, 20 columns, 40 nonzeros\n",
            "Presolved model has 210 quadratic objective terms\n",
            "Ordering time: 0.00s\n",
            "\n",
            "Barrier statistics:\n",
            " Free vars  : 19\n",
            " AA' NZ     : 2.100e+02\n",
            " Factor NZ  : 2.310e+02\n",
            " Factor Ops : 3.311e+03 (less than 1 second per iteration)\n",
            " Threads    : 1\n",
            "\n",
            "                  Objective                Residual\n",
            "Iter       Primal          Dual         Primal    Dual     Compl     Time\n",
            "   0   2.08267693e+05 -2.08267693e+05  1.43e+04 4.64e-03  1.00e+06     0s\n",
            "   1   8.40056561e+04 -8.40269388e+04  1.17e+03 3.83e-04  8.98e+04     0s\n",
            "   2   4.58502836e+02 -4.88211702e+02  3.67e+01 1.19e-05  2.92e+03     0s\n",
            "   3   1.35006111e-03 -2.99781358e+01  4.47e-02 1.46e-08  5.06e+00     0s\n",
            "   4   4.05054284e-04 -7.66553575e+00  2.02e-04 6.57e-11  3.95e-01     0s\n",
            "   5   4.14975974e-04 -9.80246824e-03  1.69e-09 5.50e-16  5.11e-04     0s\n",
            "   6   3.89483627e-04 -2.26979509e-04  8.25e-11 2.60e-17  3.08e-05     0s\n",
            "   7   2.26227587e-04 -3.90524183e-05  1.46e-16 8.33e-17  1.33e-05     0s\n",
            "   8   1.40243666e-04  8.64003780e-05  3.47e-17 4.16e-17  2.69e-06     0s\n",
            "   9   1.17101217e-04  1.13608377e-04  7.81e-17 1.39e-17  1.75e-07     0s\n",
            "  10   1.14211199e-04  1.14187354e-04  2.78e-16 6.94e-18  1.19e-09     0s\n",
            "  11   1.14188202e-04  1.14188178e-04  1.70e-15 1.39e-17  1.19e-12     0s\n",
            "\n",
            "Barrier solved model in 11 iterations and 0.05 seconds (0.00 work units)\n",
            "Optimal objective 1.14188202e-04\n",
            "\n",
            "Gurobi Optimizer version 9.5.1 build v9.5.1rc2 (linux64)\n",
            "Thread count: 1 physical cores, 2 logical processors, using up to 2 threads\n",
            "Optimize a model with 2 rows, 20 columns and 40 nonzeros\n",
            "Model fingerprint: 0xae84a77f\n",
            "Model has 210 quadratic objective terms\n",
            "Coefficient statistics:\n",
            "  Matrix range     [7e-05, 1e+00]\n",
            "  Objective range  [0e+00, 0e+00]\n",
            "  QObjective range [1e-05, 3e-03]\n",
            "  Bounds range     [0e+00, 0e+00]\n",
            "  RHS range        [2e-04, 1e+00]\n",
            "Presolve time: 0.01s\n",
            "Presolved: 2 rows, 20 columns, 40 nonzeros\n",
            "Presolved model has 210 quadratic objective terms\n",
            "Ordering time: 0.00s\n",
            "\n",
            "Barrier statistics:\n",
            " Free vars  : 19\n",
            " AA' NZ     : 2.100e+02\n",
            " Factor NZ  : 2.310e+02\n",
            " Factor Ops : 3.311e+03 (less than 1 second per iteration)\n",
            " Threads    : 1\n",
            "\n",
            "                  Objective                Residual\n",
            "Iter       Primal          Dual         Primal    Dual     Compl     Time\n",
            "   0   2.08270423e+05 -2.08270423e+05  1.42e+04 4.88e-03  1.00e+06     0s\n",
            "   1   8.40054188e+04 -8.40266243e+04  1.17e+03 4.03e-04  8.98e+04     0s\n",
            "   2   4.58489981e+02 -4.87669154e+02  3.67e+01 1.26e-05  2.92e+03     0s\n",
            "   3   1.21906019e-03 -2.94604139e+01  4.27e-02 1.46e-08  4.88e+00     0s\n",
            "   4   3.27046291e-04 -7.93062190e+00  2.78e-05 9.51e-12  3.98e-01     0s\n",
            "   5   3.27933693e-04 -8.27933616e-03  2.47e-09 8.47e-16  4.30e-04     0s\n",
            "   6   2.96994117e-04 -3.00225272e-04  1.40e-10 4.86e-17  2.99e-05     0s\n",
            "   7   1.38466609e-04 -6.31136175e-05  1.56e-16 1.39e-17  1.01e-05     0s\n",
            "   8   9.15158893e-05  6.07725352e-05  1.21e-17 1.39e-17  1.54e-06     0s\n",
            "   9   8.32379510e-05  7.68483128e-05  3.21e-17 1.73e-18  3.19e-07     0s\n",
            "  10   7.95254140e-05  7.84199396e-05  6.59e-17 3.47e-18  5.53e-08     0s\n",
            "  11   7.87396860e-05  7.87265063e-05  1.47e-16 3.47e-18  6.59e-10     0s\n",
            "  12   7.87273172e-05  7.87273040e-05  4.06e-16 2.60e-18  6.60e-13     0s\n",
            "\n",
            "Barrier solved model in 12 iterations and 0.05 seconds (0.00 work units)\n",
            "Optimal objective 7.87273172e-05\n",
            "\n",
            "Gurobi Optimizer version 9.5.1 build v9.5.1rc2 (linux64)\n",
            "Thread count: 1 physical cores, 2 logical processors, using up to 2 threads\n",
            "Optimize a model with 2 rows, 20 columns and 40 nonzeros\n",
            "Model fingerprint: 0x0f87b405\n",
            "Model has 210 quadratic objective terms\n",
            "Coefficient statistics:\n",
            "  Matrix range     [7e-05, 1e+00]\n",
            "  Objective range  [0e+00, 0e+00]\n",
            "  QObjective range [1e-05, 3e-03]\n",
            "  Bounds range     [0e+00, 0e+00]\n",
            "  RHS range        [1e-04, 1e+00]\n",
            "Presolve time: 0.01s\n",
            "Presolved: 2 rows, 20 columns, 40 nonzeros\n",
            "Presolved model has 210 quadratic objective terms\n",
            "Ordering time: 0.00s\n",
            "\n",
            "Barrier statistics:\n",
            " Free vars  : 19\n",
            " AA' NZ     : 2.100e+02\n",
            " Factor NZ  : 2.310e+02\n",
            " Factor Ops : 3.311e+03 (less than 1 second per iteration)\n",
            " Threads    : 1\n",
            "\n",
            "                  Objective                Residual\n",
            "Iter       Primal          Dual         Primal    Dual     Compl     Time\n",
            "   0   2.08273153e+05 -2.08273153e+05  1.43e+04 5.12e-03  1.00e+06     0s\n",
            "   1   8.40051770e+04 -8.40263053e+04  1.17e+03 4.22e-04  8.98e+04     0s\n",
            "   2   4.58477116e+02 -4.87126542e+02  3.67e+01 1.32e-05  2.92e+03     0s\n",
            "   3   1.09615603e-03 -2.89414796e+01  4.08e-02 1.47e-08  4.70e+00     0s\n",
            "   4   2.80869126e-04 -9.66022558e+00  4.08e-08 1.47e-14  4.83e-01     0s\n",
            "   5   2.80837502e-04 -1.00178997e-02  2.70e-12 2.29e-13  5.15e-04     0s\n",
            "   6   2.43830998e-04 -2.66120629e-04  5.97e-14 5.44e-15  2.55e-05     0s\n",
            "   7   9.64349845e-05 -1.59920462e-04  6.94e-18 4.16e-17  1.28e-05     0s\n",
            "   8   7.86488064e-05  4.08499420e-05  1.04e-17 1.39e-17  1.89e-06     0s\n",
            "   9   7.02361619e-05  5.36621997e-05  1.04e-17 3.92e-18  8.29e-07     0s\n",
            "  10   6.77191102e-05  6.41304807e-05  7.81e-18 2.17e-18  1.79e-07     0s\n",
            "  11   6.61546033e-05  6.54346774e-05  3.12e-17 2.60e-18  3.60e-08     0s\n",
            "  12   6.57270394e-05  6.57146225e-05  7.29e-17 8.67e-19  6.21e-10     0s\n",
            "  13   6.57152705e-05  6.57152570e-05  2.78e-16 1.73e-18  6.75e-13     0s\n",
            "\n",
            "Barrier solved model in 13 iterations and 0.05 seconds (0.00 work units)\n",
            "Optimal objective 6.57152705e-05\n",
            "\n",
            "Gurobi Optimizer version 9.5.1 build v9.5.1rc2 (linux64)\n",
            "Thread count: 1 physical cores, 2 logical processors, using up to 2 threads\n",
            "Optimize a model with 2 rows, 20 columns and 40 nonzeros\n",
            "Model fingerprint: 0xe36b9148\n",
            "Model has 210 quadratic objective terms\n",
            "Coefficient statistics:\n",
            "  Matrix range     [7e-05, 1e+00]\n",
            "  Objective range  [0e+00, 0e+00]\n",
            "  QObjective range [1e-05, 3e-03]\n",
            "  Bounds range     [0e+00, 0e+00]\n",
            "  RHS range        [4e-05, 1e+00]\n",
            "Presolve time: 0.01s\n",
            "Presolved: 2 rows, 20 columns, 40 nonzeros\n",
            "Presolved model has 210 quadratic objective terms\n",
            "Ordering time: 0.00s\n",
            "\n",
            "Barrier statistics:\n",
            " Free vars  : 19\n",
            " AA' NZ     : 2.100e+02\n",
            " Factor NZ  : 2.310e+02\n",
            " Factor Ops : 3.311e+03 (less than 1 second per iteration)\n",
            " Threads    : 1\n",
            "\n",
            "                  Objective                Residual\n",
            "Iter       Primal          Dual         Primal    Dual     Compl     Time\n",
            "   0   2.08275883e+05 -2.08275883e+05  1.42e+04 5.36e-03  1.00e+06     0s\n",
            "   1   8.40049359e+04 -8.40259870e+04  1.17e+03 4.42e-04  8.98e+04     0s\n",
            "   2   4.58464274e+02 -4.86583899e+02  3.67e+01 1.38e-05  2.92e+03     0s\n",
            "   3   9.83685514e-04 -2.84215207e+01  3.86e-02 1.45e-08  4.50e+00     0s\n",
            "   4   2.39622141e-04 -1.01758736e+01  3.86e-08 1.45e-14  5.09e-01     0s\n",
            "   5   2.39594903e-04 -1.05321145e-02  2.26e-12 3.08e-13  5.39e-04     0s\n",
            "   6   2.09042318e-04 -2.89824076e-04  4.77e-14 6.61e-15  2.49e-05     0s\n",
            "   7   8.38321001e-05 -1.76334418e-04  6.94e-18 5.55e-17  1.30e-05     0s\n",
            "   8   7.00555519e-05  3.33964469e-05  1.39e-17 1.21e-17  1.83e-06     0s\n",
            "   9   6.24910556e-05  5.45447016e-05  2.78e-17 1.73e-18  3.97e-07     0s\n",
            "  10   5.99394744e-05  5.84825779e-05  1.65e-17 1.73e-18  7.28e-08     0s\n",
            "  11   5.93764128e-05  5.92652134e-05  3.56e-17 2.17e-18  5.56e-09     0s\n",
            "  12   5.93052519e-05  5.92983466e-05  1.07e-15 1.84e-18  3.45e-10     0s\n",
            "\n",
            "Barrier solved model in 12 iterations and 0.04 seconds (0.00 work units)\n",
            "Optimal objective 5.93052519e-05\n",
            "\n",
            "Gurobi Optimizer version 9.5.1 build v9.5.1rc2 (linux64)\n",
            "Thread count: 1 physical cores, 2 logical processors, using up to 2 threads\n",
            "Optimize a model with 2 rows, 20 columns and 40 nonzeros\n",
            "Model fingerprint: 0x0d9fb03d\n",
            "Model has 210 quadratic objective terms\n",
            "Coefficient statistics:\n",
            "  Matrix range     [7e-05, 1e+00]\n",
            "  Objective range  [0e+00, 0e+00]\n",
            "  QObjective range [1e-05, 3e-03]\n",
            "  Bounds range     [0e+00, 0e+00]\n",
            "  RHS range        [7e-05, 1e+00]\n",
            "Presolve time: 0.01s\n",
            "Presolved: 2 rows, 20 columns, 40 nonzeros\n",
            "Presolved model has 210 quadratic objective terms\n",
            "Ordering time: 0.00s\n",
            "\n",
            "Barrier statistics:\n",
            " Free vars  : 19\n",
            " AA' NZ     : 2.100e+02\n",
            " Factor NZ  : 2.310e+02\n",
            " Factor Ops : 3.311e+03 (less than 1 second per iteration)\n",
            " Threads    : 1\n",
            "\n",
            "                  Objective                Residual\n",
            "Iter       Primal          Dual         Primal    Dual     Compl     Time\n",
            "   0   2.08278613e+05 -2.08278613e+05  1.43e+04 5.61e-03  1.00e+06     0s\n",
            "   1   8.40046898e+04 -8.40256638e+04  1.17e+03 4.62e-04  8.98e+04     0s\n",
            "   2   4.58451376e+02 -4.86041147e+02  3.67e+01 1.44e-05  2.92e+03     0s\n",
            "   3   8.82467449e-04 -2.79008929e+01  3.61e-02 1.42e-08  4.27e+00     0s\n",
            "   4   2.10118906e-04 -1.04657961e+01  3.61e-08 1.42e-14  5.23e-01     0s\n",
            "   5   2.10096417e-04 -1.08275986e-02  1.97e-12 4.34e-19  5.52e-04     0s\n",
            "   6   1.85505538e-04 -2.79531062e-04  3.85e-14 1.73e-18  2.33e-05     0s\n",
            "   7   7.74975388e-05 -1.67358624e-04  1.73e-17 2.43e-17  1.22e-05     0s\n",
            "   8   6.52233982e-05  3.25460127e-05  5.20e-18 8.67e-18  1.63e-06     0s\n",
            "   9   5.82936153e-05  5.08218378e-05  1.04e-17 3.07e-18  3.74e-07     0s\n",
            "  10   5.71241141e-05  5.59023167e-05  5.20e-18 1.73e-18  6.11e-08     0s\n",
            "  11   5.66327229e-05  5.64722872e-05  2.60e-17 9.76e-19  8.02e-09     0s\n",
            "  12   5.65459733e-05  5.65372803e-05  9.54e-18 1.80e-18  4.35e-10     0s\n",
            "\n",
            "Barrier solved model in 12 iterations and 0.04 seconds (0.00 work units)\n",
            "Optimal objective 5.65459733e-05\n",
            "\n",
            "Gurobi Optimizer version 9.5.1 build v9.5.1rc2 (linux64)\n",
            "Thread count: 1 physical cores, 2 logical processors, using up to 2 threads\n",
            "Optimize a model with 2 rows, 20 columns and 40 nonzeros\n",
            "Model fingerprint: 0x4e712b38\n",
            "Model has 210 quadratic objective terms\n",
            "Coefficient statistics:\n",
            "  Matrix range     [7e-05, 1e+00]\n",
            "  Objective range  [0e+00, 0e+00]\n",
            "  QObjective range [1e-05, 3e-03]\n",
            "  Bounds range     [0e+00, 0e+00]\n",
            "  RHS range        [2e-04, 1e+00]\n",
            "Presolve time: 0.01s\n",
            "Presolved: 2 rows, 20 columns, 40 nonzeros\n",
            "Presolved model has 210 quadratic objective terms\n",
            "Ordering time: 0.00s\n",
            "\n",
            "Barrier statistics:\n",
            " Free vars  : 19\n",
            " AA' NZ     : 2.100e+02\n",
            " Factor NZ  : 2.310e+02\n",
            " Factor Ops : 3.311e+03 (less than 1 second per iteration)\n",
            " Threads    : 1\n",
            "\n",
            "                  Objective                Residual\n",
            "Iter       Primal          Dual         Primal    Dual     Compl     Time\n",
            "   0   2.08281342e+05 -2.08281342e+05  1.42e+04 5.85e-03  1.00e+06     0s\n",
            "   1   8.40044340e+04 -8.40253308e+04  1.17e+03 4.82e-04  8.98e+04     0s\n",
            "   2   4.58438403e+02 -4.85498267e+02  3.67e+01 1.50e-05  2.92e+03     0s\n",
            "   3   7.88343821e-04 -2.73786950e+01  3.36e-02 1.38e-08  4.05e+00     0s\n",
            "   4   1.85372439e-04 -1.06521800e+01  3.36e-08 1.38e-14  5.33e-01     0s\n",
            "   5   1.85355193e-04 -1.09832036e-02  1.63e-12 2.54e-14  5.58e-04     0s\n",
            "   6   1.68062454e-04 -2.53400272e-04  3.28e-14 5.89e-16  2.11e-05     0s\n",
            "   7   7.40095406e-05 -1.50162867e-04  6.94e-18 3.47e-18  1.12e-05     0s\n",
            "   8   6.20456774e-05  3.77986782e-05  6.94e-18 6.94e-18  1.21e-06     0s\n",
            "   9   5.73115904e-05  5.15297079e-05  2.26e-17 3.47e-18  2.89e-07     0s\n",
            "  10   5.63054386e-05  5.57104019e-05  5.20e-18 1.16e-18  2.98e-08     0s\n",
            "  11   5.59992220e-05  5.58861200e-05  1.91e-17 1.03e-18  5.66e-09     0s\n",
            "  12   5.59565261e-05  5.59548172e-05  1.17e-17 2.26e-18  8.54e-11     0s\n",
            "\n",
            "Barrier solved model in 12 iterations and 0.04 seconds (0.00 work units)\n",
            "Optimal objective 5.59565261e-05\n",
            "\n",
            "Gurobi Optimizer version 9.5.1 build v9.5.1rc2 (linux64)\n",
            "Thread count: 1 physical cores, 2 logical processors, using up to 2 threads\n",
            "Optimize a model with 2 rows, 20 columns and 40 nonzeros\n",
            "Model fingerprint: 0xf47fc170\n",
            "Model has 210 quadratic objective terms\n",
            "Coefficient statistics:\n",
            "  Matrix range     [7e-05, 1e+00]\n",
            "  Objective range  [0e+00, 0e+00]\n",
            "  QObjective range [1e-05, 3e-03]\n",
            "  Bounds range     [0e+00, 0e+00]\n",
            "  RHS range        [3e-04, 1e+00]\n",
            "Presolve time: 0.01s\n",
            "Presolved: 2 rows, 20 columns, 40 nonzeros\n",
            "Presolved model has 210 quadratic objective terms\n",
            "Ordering time: 0.00s\n",
            "\n",
            "Barrier statistics:\n",
            " Free vars  : 19\n",
            " AA' NZ     : 2.100e+02\n",
            " Factor NZ  : 2.310e+02\n",
            " Factor Ops : 3.311e+03 (less than 1 second per iteration)\n",
            " Threads    : 1\n",
            "\n",
            "                  Objective                Residual\n",
            "Iter       Primal          Dual         Primal    Dual     Compl     Time\n",
            "   0   2.08284072e+05 -2.08284072e+05  1.42e+04 6.09e-03  1.00e+06     0s\n",
            "   1   8.40041754e+04 -8.40249949e+04  1.17e+03 5.01e-04  8.98e+04     0s\n",
            "   2   4.58425452e+02 -4.84955356e+02  3.67e+01 1.57e-05  2.92e+03     0s\n",
            "   3   7.00583581e-04 -2.68545098e+01  3.17e-02 1.35e-08  3.87e+00     0s\n",
            "   4   1.63745253e-04 -1.07340125e+01  3.17e-08 1.35e-14  5.37e-01     0s\n",
            "   5   1.63733055e-04 -1.10029653e-02  1.28e-12 1.38e-13  5.58e-04     0s\n",
            "   6   1.51681478e-04 -1.94391111e-04  2.05e-14 2.26e-15  1.73e-05     0s\n",
            "   7   7.20135512e-05 -1.03650213e-04  1.56e-17 6.94e-18  8.78e-06     0s\n",
            "   8   6.08574705e-05  4.12799456e-05  2.60e-18 6.07e-18  9.79e-07     0s\n",
            "   9   5.77520554e-05  5.47643548e-05  7.16e-17 2.17e-18  1.49e-07     0s\n",
            "  10   5.65931232e-05  5.57762320e-05  2.08e-17 2.21e-18  4.08e-08     0s\n",
            "  11   5.63381523e-05  5.63059764e-05  2.60e-18 1.73e-18  1.61e-09     0s\n",
            "  12   5.63126859e-05  5.63113491e-05  2.05e-16 1.46e-18  6.68e-11     0s\n",
            "\n",
            "Barrier solved model in 12 iterations and 0.05 seconds (0.00 work units)\n",
            "Optimal objective 5.63126859e-05\n",
            "\n",
            "Gurobi Optimizer version 9.5.1 build v9.5.1rc2 (linux64)\n",
            "Thread count: 1 physical cores, 2 logical processors, using up to 2 threads\n",
            "Optimize a model with 2 rows, 20 columns and 40 nonzeros\n",
            "Model fingerprint: 0x9134a3da\n",
            "Model has 210 quadratic objective terms\n",
            "Coefficient statistics:\n",
            "  Matrix range     [7e-05, 1e+00]\n",
            "  Objective range  [0e+00, 0e+00]\n",
            "  QObjective range [1e-05, 3e-03]\n",
            "  Bounds range     [0e+00, 0e+00]\n",
            "  RHS range        [4e-04, 1e+00]\n",
            "Presolve time: 0.01s\n",
            "Presolved: 2 rows, 20 columns, 40 nonzeros\n",
            "Presolved model has 210 quadratic objective terms\n",
            "Ordering time: 0.00s\n",
            "\n",
            "Barrier statistics:\n",
            " Free vars  : 19\n",
            " AA' NZ     : 2.100e+02\n",
            " Factor NZ  : 2.310e+02\n",
            " Factor Ops : 3.311e+03 (less than 1 second per iteration)\n",
            " Threads    : 1\n",
            "\n",
            "                  Objective                Residual\n",
            "Iter       Primal          Dual         Primal    Dual     Compl     Time\n",
            "   0   2.08286802e+05 -2.08286802e+05  1.42e+04 6.33e-03  1.00e+06     0s\n",
            "   1   8.40039167e+04 -8.40246591e+04  1.17e+03 5.21e-04  8.98e+04     0s\n",
            "   2   4.58412504e+02 -4.84412395e+02  3.67e+01 1.63e-05  2.92e+03     0s\n",
            "   3   6.22311611e-04 -2.63291456e+01  2.96e-02 1.31e-08  3.68e+00     0s\n",
            "   4   1.49424067e-04 -1.06302523e+01  2.96e-08 1.31e-14  5.32e-01     0s\n",
            "   5   1.49415586e-04 -1.08272630e-02  9.66e-13 5.34e-14  5.49e-04     0s\n",
            "   6   1.41097701e-04 -1.33339194e-04  1.17e-14 6.92e-16  1.37e-05     0s\n",
            "   7   7.02545482e-05 -6.13291490e-05  6.94e-18 6.94e-18  6.58e-06     0s\n",
            "   8   6.09365846e-05  5.00708718e-05  1.04e-17 1.52e-18  5.43e-07     0s\n",
            "   9   5.82942833e-05  5.58030085e-05  2.26e-17 8.67e-19  1.25e-07     0s\n",
            "  10   5.76018786e-05  5.73852312e-05  3.47e-18 2.28e-18  1.08e-08     0s\n",
            "  11   5.74929342e-05  5.74841460e-05  5.20e-17 1.47e-18  4.39e-10     0s\n",
            "\n",
            "Barrier solved model in 11 iterations and 0.04 seconds (0.00 work units)\n",
            "Optimal objective 5.74929342e-05\n",
            "\n",
            "Gurobi Optimizer version 9.5.1 build v9.5.1rc2 (linux64)\n",
            "Thread count: 1 physical cores, 2 logical processors, using up to 2 threads\n",
            "Optimize a model with 2 rows, 20 columns and 40 nonzeros\n",
            "Model fingerprint: 0x89731ca6\n",
            "Model has 210 quadratic objective terms\n",
            "Coefficient statistics:\n",
            "  Matrix range     [7e-05, 1e+00]\n",
            "  Objective range  [0e+00, 0e+00]\n",
            "  QObjective range [1e-05, 3e-03]\n",
            "  Bounds range     [0e+00, 0e+00]\n",
            "  RHS range        [5e-04, 1e+00]\n",
            "Presolve time: 0.01s\n",
            "Presolved: 2 rows, 20 columns, 40 nonzeros\n",
            "Presolved model has 210 quadratic objective terms\n",
            "Ordering time: 0.00s\n",
            "\n",
            "Barrier statistics:\n",
            " Free vars  : 19\n",
            " AA' NZ     : 2.100e+02\n",
            " Factor NZ  : 2.310e+02\n",
            " Factor Ops : 3.311e+03 (less than 1 second per iteration)\n",
            " Threads    : 1\n",
            "\n",
            "                  Objective                Residual\n",
            "Iter       Primal          Dual         Primal    Dual     Compl     Time\n",
            "   0   2.08289532e+05 -2.08289532e+05  1.42e+04 6.57e-03  1.00e+06     0s\n",
            "   1   8.40036581e+04 -8.40243233e+04  1.17e+03 5.41e-04  8.98e+04     0s\n",
            "   2   4.58399558e+02 -4.83869384e+02  3.67e+01 1.69e-05  2.92e+03     0s\n",
            "   3   5.52619268e-04 -2.58029275e+01  2.71e-02 1.25e-08  3.45e+00     0s\n",
            "   4   1.43169257e-04 -1.02263525e+01  2.71e-08 1.25e-14  5.11e-01     0s\n",
            "   5   1.43162946e-04 -1.03575665e-02  7.27e-13 1.07e-13  5.25e-04     0s\n",
            "   6   1.37455481e-04 -9.31152907e-05  8.96e-15 1.33e-15  1.15e-05     0s\n",
            "   7   6.97463585e-05 -3.87859441e-05  1.04e-17 5.20e-18  5.43e-06     0s\n",
            "   8   6.19271948e-05  5.42474660e-05  3.47e-18 2.71e-18  3.84e-07     0s\n",
            "   9   5.99400200e-05  5.89798264e-05  2.39e-17 8.67e-19  4.80e-08     0s\n",
            "  10   5.95458260e-05  5.95090590e-05  2.43e-17 3.44e-18  1.84e-09     0s\n",
            "  11   5.95298118e-05  5.95296149e-05  9.02e-17 2.17e-18  9.84e-12     0s\n",
            "\n",
            "Barrier solved model in 11 iterations and 0.04 seconds (0.00 work units)\n",
            "Optimal objective 5.95298118e-05\n",
            "\n",
            "Gurobi Optimizer version 9.5.1 build v9.5.1rc2 (linux64)\n",
            "Thread count: 1 physical cores, 2 logical processors, using up to 2 threads\n",
            "Optimize a model with 2 rows, 20 columns and 40 nonzeros\n",
            "Model fingerprint: 0xa8be0033\n",
            "Model has 210 quadratic objective terms\n",
            "Coefficient statistics:\n",
            "  Matrix range     [7e-05, 1e+00]\n",
            "  Objective range  [0e+00, 0e+00]\n",
            "  QObjective range [1e-05, 3e-03]\n",
            "  Bounds range     [0e+00, 0e+00]\n",
            "  RHS range        [6e-04, 1e+00]\n",
            "Presolve time: 0.01s\n",
            "Presolved: 2 rows, 20 columns, 40 nonzeros\n",
            "Presolved model has 210 quadratic objective terms\n",
            "Ordering time: 0.00s\n",
            "\n",
            "Barrier statistics:\n",
            " Free vars  : 19\n",
            " AA' NZ     : 2.100e+02\n",
            " Factor NZ  : 2.310e+02\n",
            " Factor Ops : 3.311e+03 (less than 1 second per iteration)\n",
            " Threads    : 1\n",
            "\n",
            "                  Objective                Residual\n",
            "Iter       Primal          Dual         Primal    Dual     Compl     Time\n",
            "   0   2.08292262e+05 -2.08292262e+05  1.42e+04 6.81e-03  1.00e+06     0s\n",
            "   1   8.40033995e+04 -8.40239875e+04  1.17e+03 5.61e-04  8.98e+04     0s\n",
            "   2   4.58386615e+02 -4.83326322e+02  3.67e+01 1.75e-05  2.92e+03     0s\n",
            "   3   4.90450240e-04 -2.52752612e+01  2.45e-02 1.17e-08  3.22e+00     0s\n",
            "   4   1.41311857e-04 -9.62559425e+00  2.45e-08 1.17e-14  4.81e-01     0s\n",
            "   5   1.41306849e-04 -9.69314161e-03  5.32e-13 3.54e-13  4.92e-04     0s\n",
            "   6   1.36722934e-04 -7.25735832e-05  6.40e-15 4.34e-15  1.05e-05     0s\n",
            "   7   7.44681173e-05 -8.13701478e-05  3.47e-18 5.73e-18  7.79e-06     0s\n",
            "   8   6.64636446e-05  5.52194823e-05  2.60e-18 4.77e-18  5.62e-07     0s\n",
            "   9   6.30106704e-05  6.14370636e-05  1.82e-17 1.33e-18  7.87e-08     0s\n",
            "  10   6.24668411e-05  6.24362740e-05  1.39e-17 4.34e-18  1.53e-09     0s\n",
            "  11   6.24490065e-05  6.24482569e-05  1.42e-16 1.30e-18  3.75e-11     0s\n",
            "\n",
            "Barrier solved model in 11 iterations and 0.05 seconds (0.00 work units)\n",
            "Optimal objective 6.24490065e-05\n",
            "\n",
            "Gurobi Optimizer version 9.5.1 build v9.5.1rc2 (linux64)\n",
            "Thread count: 1 physical cores, 2 logical processors, using up to 2 threads\n",
            "Optimize a model with 2 rows, 20 columns and 40 nonzeros\n",
            "Model fingerprint: 0xc0425e03\n",
            "Model has 210 quadratic objective terms\n",
            "Coefficient statistics:\n",
            "  Matrix range     [7e-05, 1e+00]\n",
            "  Objective range  [0e+00, 0e+00]\n",
            "  QObjective range [1e-05, 3e-03]\n",
            "  Bounds range     [0e+00, 0e+00]\n",
            "  RHS range        [7e-04, 1e+00]\n",
            "Presolve time: 0.01s\n",
            "Presolved: 2 rows, 20 columns, 40 nonzeros\n",
            "Presolved model has 210 quadratic objective terms\n",
            "Ordering time: 0.00s\n",
            "\n",
            "Barrier statistics:\n",
            " Free vars  : 19\n",
            " AA' NZ     : 2.100e+02\n",
            " Factor NZ  : 2.310e+02\n",
            " Factor Ops : 3.311e+03 (less than 1 second per iteration)\n",
            " Threads    : 1\n",
            "\n",
            "                  Objective                Residual\n",
            "Iter       Primal          Dual         Primal    Dual     Compl     Time\n",
            "   0   2.08294992e+05 -2.08294992e+05  1.43e+04 7.05e-03  1.00e+06     0s\n",
            "   1   8.40031470e+04 -8.40236578e+04  1.17e+03 5.81e-04  8.98e+04     0s\n",
            "   2   4.58373882e+02 -4.82783418e+02  3.67e+01 1.81e-05  2.92e+03     0s\n",
            "   3   4.38877467e-04 -2.47461477e+01  2.21e-02 1.09e-08  3.00e+00     0s\n",
            "   4   1.43386403e-04 -8.88127072e+00  2.21e-08 1.09e-14  4.44e-01     0s\n",
            "   5   1.43381972e-04 -8.97048728e-03  5.79e-13 5.31e-15  4.56e-04     0s\n",
            "   6   1.39866830e-04 -1.06547423e-04  1.24e-14 4.77e-17  1.23e-05     0s\n",
            "   7   8.90073192e-05 -7.53198962e-05  6.94e-18 5.20e-18  8.22e-06     0s\n",
            "   8   7.30532078e-05  5.28332973e-05  1.73e-18 2.60e-18  1.01e-06     0s\n",
            "   9   6.74521112e-05  6.39932143e-05  5.12e-17 2.95e-18  1.73e-07     0s\n",
            "  10   6.63432270e-05  6.61906940e-05  6.94e-18 1.08e-18  7.63e-09     0s\n",
            "  11   6.62624457e-05  6.62596526e-05  6.33e-17 1.26e-18  1.40e-10     0s\n",
            "\n",
            "Barrier solved model in 11 iterations and 0.04 seconds (0.00 work units)\n",
            "Optimal objective 6.62624457e-05\n",
            "\n",
            "Gurobi Optimizer version 9.5.1 build v9.5.1rc2 (linux64)\n",
            "Thread count: 1 physical cores, 2 logical processors, using up to 2 threads\n",
            "Optimize a model with 2 rows, 20 columns and 40 nonzeros\n",
            "Model fingerprint: 0xd2bed345\n",
            "Model has 210 quadratic objective terms\n",
            "Coefficient statistics:\n",
            "  Matrix range     [7e-05, 1e+00]\n",
            "  Objective range  [0e+00, 0e+00]\n",
            "  QObjective range [1e-05, 3e-03]\n",
            "  Bounds range     [0e+00, 0e+00]\n",
            "  RHS range        [8e-04, 1e+00]\n",
            "Presolve time: 0.01s\n",
            "Presolved: 2 rows, 20 columns, 40 nonzeros\n",
            "Presolved model has 210 quadratic objective terms\n",
            "Ordering time: 0.00s\n",
            "\n",
            "Barrier statistics:\n",
            " Free vars  : 19\n",
            " AA' NZ     : 2.100e+02\n",
            " Factor NZ  : 2.310e+02\n",
            " Factor Ops : 3.311e+03 (less than 1 second per iteration)\n",
            " Threads    : 1\n",
            "\n",
            "                  Objective                Residual\n",
            "Iter       Primal          Dual         Primal    Dual     Compl     Time\n",
            "   0   2.08297722e+05 -2.08297722e+05  1.42e+04 7.29e-03  1.00e+06     0s\n",
            "   1   8.40029331e+04 -8.40233666e+04  1.17e+03 6.00e-04  8.98e+04     0s\n",
            "   2   4.58362440e+02 -4.82241752e+02  3.67e+01 1.87e-05  2.92e+03     0s\n",
            "   3   5.28889771e-04 -2.42156605e+01  2.60e-02 1.33e-08  3.28e+00     0s\n",
            "   4   1.49499545e-04 -9.80372393e+00  2.60e-08 1.33e-14  4.90e-01     0s\n",
            "   5   1.49495765e-04 -9.99046288e-03  8.91e-13 9.24e-14  5.07e-04     0s\n",
            "   6   1.45973479e-04 -1.81069220e-04  2.19e-14 2.15e-15  1.64e-05     0s\n",
            "   7   1.08554432e-04 -1.51848696e-04  3.47e-18 4.34e-18  1.30e-05     0s\n",
            "   8   8.48929962e-05  5.02994563e-05  3.47e-18 3.47e-18  1.73e-06     0s\n",
            "   9   7.36091342e-05  6.39930304e-05  5.20e-17 2.60e-18  4.81e-07     0s\n",
            "  10   7.13248318e-05  7.06259616e-05  6.94e-18 8.67e-19  3.49e-08     0s\n",
            "  11   7.09823132e-05  7.09636768e-05  2.95e-17 1.30e-18  9.32e-10     0s\n",
            "  12   7.09726197e-05  7.09725949e-05  9.54e-17 1.02e-18  1.24e-12     0s\n",
            "\n",
            "Barrier solved model in 12 iterations and 0.05 seconds (0.00 work units)\n",
            "Optimal objective 7.09726197e-05\n",
            "\n",
            "Gurobi Optimizer version 9.5.1 build v9.5.1rc2 (linux64)\n",
            "Thread count: 1 physical cores, 2 logical processors, using up to 2 threads\n",
            "Optimize a model with 2 rows, 20 columns and 40 nonzeros\n",
            "Model fingerprint: 0x770d6b00\n",
            "Model has 210 quadratic objective terms\n",
            "Coefficient statistics:\n",
            "  Matrix range     [7e-05, 1e+00]\n",
            "  Objective range  [0e+00, 0e+00]\n",
            "  QObjective range [1e-05, 3e-03]\n",
            "  Bounds range     [0e+00, 0e+00]\n",
            "  RHS range        [9e-04, 1e+00]\n",
            "Presolve time: 0.01s\n",
            "Presolved: 2 rows, 20 columns, 40 nonzeros\n",
            "Presolved model has 210 quadratic objective terms\n",
            "Ordering time: 0.00s\n",
            "\n",
            "Barrier statistics:\n",
            " Free vars  : 19\n",
            " AA' NZ     : 2.100e+02\n",
            " Factor NZ  : 2.310e+02\n",
            " Factor Ops : 3.311e+03 (less than 1 second per iteration)\n",
            " Threads    : 1\n",
            "\n",
            "                  Objective                Residual\n",
            "Iter       Primal          Dual         Primal    Dual     Compl     Time\n",
            "   0   2.08300453e+05 -2.08300453e+05  1.42e+04 7.53e-03  1.00e+06     0s\n",
            "   1   8.40027183e+04 -8.40230747e+04  1.17e+03 6.20e-04  8.98e+04     0s\n",
            "   2   4.58350967e+02 -4.81700002e+02  3.67e+01 1.94e-05  2.92e+03     0s\n",
            "   3   6.37489416e-04 -2.36837328e+01  3.01e-02 1.59e-08  3.58e+00     0s\n",
            "   4   1.58955906e-04 -1.03533228e+01  3.01e-08 1.59e-14  5.18e-01     0s\n",
            "   5   1.58952192e-04 -1.06468374e-02  1.31e-12 2.61e-13  5.40e-04     0s\n",
            "   6   1.54959567e-04 -2.30302609e-04  3.53e-14 6.93e-15  1.93e-05     0s\n",
            "   7   1.25166927e-04 -2.25247063e-04  1.73e-17 2.43e-17  1.75e-05     0s\n",
            "   8   9.49450853e-05  5.27494446e-05  6.94e-18 1.04e-17  2.11e-06     0s\n",
            "   9   8.01618274e-05  6.79212600e-05  4.51e-17 1.68e-18  6.12e-07     0s\n",
            "  10   7.70355841e-05  7.61887750e-05  1.73e-17 1.73e-18  4.23e-08     0s\n",
            "  11   7.66249077e-05  7.65850633e-05  9.75e-16 8.67e-19  1.99e-09     0s\n",
            "  12   7.66013653e-05  7.66001908e-05  1.04e-15 2.14e-18  5.87e-11     0s\n",
            "\n",
            "Barrier solved model in 12 iterations and 0.05 seconds (0.00 work units)\n",
            "Optimal objective 7.66013653e-05\n",
            "\n",
            "Gurobi Optimizer version 9.5.1 build v9.5.1rc2 (linux64)\n",
            "Thread count: 1 physical cores, 2 logical processors, using up to 2 threads\n",
            "Optimize a model with 2 rows, 20 columns and 40 nonzeros\n",
            "Model fingerprint: 0x6ea2a579\n",
            "Model has 210 quadratic objective terms\n",
            "Coefficient statistics:\n",
            "  Matrix range     [7e-05, 1e+00]\n",
            "  Objective range  [0e+00, 0e+00]\n",
            "  QObjective range [1e-05, 3e-03]\n",
            "  Bounds range     [0e+00, 0e+00]\n",
            "  RHS range        [1e-03, 1e+00]\n",
            "Presolve time: 0.01s\n",
            "Presolved: 2 rows, 20 columns, 40 nonzeros\n",
            "Presolved model has 210 quadratic objective terms\n",
            "Ordering time: 0.00s\n",
            "\n",
            "Barrier statistics:\n",
            " Free vars  : 19\n",
            " AA' NZ     : 2.100e+02\n",
            " Factor NZ  : 2.310e+02\n",
            " Factor Ops : 3.311e+03 (less than 1 second per iteration)\n",
            " Threads    : 1\n",
            "\n",
            "                  Objective                Residual\n",
            "Iter       Primal          Dual         Primal    Dual     Compl     Time\n",
            "   0   2.08303183e+05 -2.08303183e+05  1.42e+04 7.77e-03  1.00e+06     0s\n",
            "   1   8.40025195e+04 -8.40227986e+04  1.17e+03 6.40e-04  8.98e+04     0s\n",
            "   2   4.58339531e+02 -4.81158235e+02  3.67e+01 2.00e-05  2.92e+03     0s\n",
            "   3   7.60037995e-04 -2.31503607e+01  3.41e-02 1.86e-08  3.88e+00     0s\n",
            "   4   1.71356345e-04 -1.04272827e+01  3.41e-08 1.86e-14  5.21e-01     0s\n",
            "   5   1.71352281e-04 -1.08386496e-02  1.91e-12 3.81e-13  5.51e-04     0s\n",
            "   6   1.66299983e-04 -2.48086923e-04  5.33e-14 1.08e-14  2.07e-05     0s\n",
            "   7   1.31612834e-04 -2.17071931e-04  4.34e-18 1.73e-17  1.74e-05     0s\n",
            "   8   1.03994817e-04  5.54725857e-05  3.47e-18 1.40e-17  2.43e-06     0s\n",
            "   9   8.80637666e-05  7.38089669e-05  5.20e-17 1.73e-18  7.13e-07     0s\n",
            "  10   8.43364361e-05  8.32882688e-05  1.56e-17 1.08e-18  5.24e-08     0s\n",
            "  11   8.37739741e-05  8.37401490e-05  1.35e-16 8.67e-19  1.69e-09     0s\n",
            "  12   8.37479054e-05  8.37473866e-05  7.39e-16 1.52e-18  2.59e-11     0s\n",
            "\n",
            "Barrier solved model in 12 iterations and 0.04 seconds (0.00 work units)\n",
            "Optimal objective 8.37479054e-05\n",
            "\n",
            "Gurobi Optimizer version 9.5.1 build v9.5.1rc2 (linux64)\n",
            "Thread count: 1 physical cores, 2 logical processors, using up to 2 threads\n",
            "Optimize a model with 2 rows, 20 columns and 40 nonzeros\n",
            "Model fingerprint: 0x0509fc40\n",
            "Model has 210 quadratic objective terms\n",
            "Coefficient statistics:\n",
            "  Matrix range     [7e-05, 1e+00]\n",
            "  Objective range  [0e+00, 0e+00]\n",
            "  QObjective range [1e-05, 3e-03]\n",
            "  Bounds range     [0e+00, 0e+00]\n",
            "  RHS range        [1e-03, 1e+00]\n",
            "Presolve time: 0.01s\n",
            "Presolved: 2 rows, 20 columns, 40 nonzeros\n",
            "Presolved model has 210 quadratic objective terms\n",
            "Ordering time: 0.00s\n",
            "\n",
            "Barrier statistics:\n",
            " Free vars  : 19\n",
            " AA' NZ     : 2.100e+02\n",
            " Factor NZ  : 2.310e+02\n",
            " Factor Ops : 3.311e+03 (less than 1 second per iteration)\n",
            " Threads    : 1\n",
            "\n",
            "                  Objective                Residual\n",
            "Iter       Primal          Dual         Primal    Dual     Compl     Time\n",
            "   0   2.08305913e+05 -2.08305913e+05  1.43e+04 8.01e-03  1.00e+06     0s\n",
            "   1   8.40025371e+04 -8.40227390e+04  1.17e+03 6.60e-04  8.98e+04     0s\n",
            "   2   4.58327667e+02 -4.80615975e+02  3.67e+01 2.06e-05  2.92e+03     0s\n",
            "   3   8.96519100e-04 -2.26155367e+01  3.82e-02 2.15e-08  4.18e+00     0s\n",
            "   4   1.86370300e-04 -1.00066924e+01  3.82e-08 2.15e-14  5.00e-01     0s\n",
            "   5   1.86365465e-04 -1.05464907e-02  2.78e-12 2.35e-13  5.37e-04     0s\n",
            "   6   1.79518535e-04 -2.53405826e-04  7.99e-14 7.05e-15  2.16e-05     0s\n",
            "   7   1.38587851e-04 -1.82174161e-04  2.78e-17 2.08e-17  1.60e-05     0s\n",
            "   8   1.13220901e-04  5.92925075e-05  6.94e-18 1.04e-17  2.70e-06     0s\n",
            "   9   9.85061000e-05  8.47268499e-05  2.53e-16 3.47e-18  6.89e-07     0s\n",
            "  10   9.39116569e-05  9.22586490e-05  2.08e-17 1.39e-18  8.27e-08     0s\n",
            "  11   9.31257479e-05  9.30608095e-05  8.07e-17 3.33e-18  3.25e-09     0s\n",
            "  12   9.30837145e-05  9.30814546e-05  1.34e-15 2.88e-18  1.13e-10     0s\n",
            "\n",
            "Barrier solved model in 12 iterations and 0.05 seconds (0.00 work units)\n",
            "Optimal objective 9.30837145e-05\n",
            "\n",
            "Gurobi Optimizer version 9.5.1 build v9.5.1rc2 (linux64)\n",
            "Thread count: 1 physical cores, 2 logical processors, using up to 2 threads\n",
            "Optimize a model with 2 rows, 20 columns and 40 nonzeros\n",
            "Model fingerprint: 0x8755e58a\n",
            "Model has 210 quadratic objective terms\n",
            "Coefficient statistics:\n",
            "  Matrix range     [7e-05, 1e+00]\n",
            "  Objective range  [0e+00, 0e+00]\n",
            "  QObjective range [1e-05, 3e-03]\n",
            "  Bounds range     [0e+00, 0e+00]\n",
            "  RHS range        [1e-03, 1e+00]\n",
            "Presolve time: 0.01s\n",
            "Presolved: 2 rows, 20 columns, 40 nonzeros\n",
            "Presolved model has 210 quadratic objective terms\n",
            "Ordering time: 0.00s\n",
            "\n",
            "Barrier statistics:\n",
            " Free vars  : 19\n",
            " AA' NZ     : 2.100e+02\n",
            " Factor NZ  : 2.310e+02\n",
            " Factor Ops : 3.311e+03 (less than 1 second per iteration)\n",
            " Threads    : 1\n",
            "\n",
            "                  Objective                Residual\n",
            "Iter       Primal          Dual         Primal    Dual     Compl     Time\n",
            "   0   2.08308643e+05 -2.08308643e+05  1.43e+04 8.25e-03  1.00e+06     0s\n",
            "   1   8.40025679e+04 -8.40226926e+04  1.17e+03 6.80e-04  8.98e+04     0s\n",
            "   2   4.58315764e+02 -4.80073623e+02  3.67e+01 2.12e-05  2.92e+03     0s\n",
            "   3   1.04598899e-03 -2.20792833e+01  4.23e-02 2.45e-08  4.48e+00     0s\n",
            "   4   1.99169508e-04 -7.68157240e+00  1.69e-04 9.79e-11  3.93e-01     0s\n",
            "   5   1.97624714e-04 -2.46289114e-02  2.07e-07 1.20e-13  1.24e-03     0s\n",
            "   6   1.92886879e-04 -1.20076764e-03  1.09e-08 6.33e-15  6.97e-05     0s\n",
            "   7   1.52345568e-04 -1.74539373e-04  1.09e-14 1.73e-18  1.63e-05     0s\n",
            "   8   1.35411324e-04  5.33504619e-05  1.98e-15 4.34e-19  4.10e-06     0s\n",
            "   9   1.16399755e-04  6.64195964e-05  2.98e-16 3.47e-18  2.50e-06     0s\n",
            "  10   1.07998473e-04  1.02664750e-04  3.30e-17 4.34e-18  2.67e-07     0s\n",
            "  11   1.05595930e-04  1.05082244e-04  1.91e-16 8.67e-19  2.57e-08     0s\n",
            "  12   1.05175327e-04  1.05150942e-04  7.98e-17 8.67e-19  1.22e-09     0s\n",
            "  13   1.05160249e-04  1.05160224e-04  1.32e-16 5.20e-18  1.24e-12     0s\n",
            "\n",
            "Barrier solved model in 13 iterations and 0.05 seconds (0.00 work units)\n",
            "Optimal objective 1.05160249e-04\n",
            "\n",
            "Gurobi Optimizer version 9.5.1 build v9.5.1rc2 (linux64)\n",
            "Thread count: 1 physical cores, 2 logical processors, using up to 2 threads\n",
            "Optimize a model with 2 rows, 20 columns and 40 nonzeros\n",
            "Model fingerprint: 0xd141093b\n",
            "Model has 210 quadratic objective terms\n",
            "Coefficient statistics:\n",
            "  Matrix range     [7e-05, 1e+00]\n",
            "  Objective range  [0e+00, 0e+00]\n",
            "  QObjective range [1e-05, 3e-03]\n",
            "  Bounds range     [0e+00, 0e+00]\n",
            "  RHS range        [1e-03, 1e+00]\n",
            "Presolve time: 0.01s\n",
            "Presolved: 2 rows, 20 columns, 40 nonzeros\n",
            "Presolved model has 210 quadratic objective terms\n",
            "Ordering time: 0.00s\n",
            "\n",
            "Barrier statistics:\n",
            " Free vars  : 19\n",
            " AA' NZ     : 2.100e+02\n",
            " Factor NZ  : 2.310e+02\n",
            " Factor Ops : 3.311e+03 (less than 1 second per iteration)\n",
            " Threads    : 1\n",
            "\n",
            "                  Objective                Residual\n",
            "Iter       Primal          Dual         Primal    Dual     Compl     Time\n",
            "   0   2.08311373e+05 -2.08311373e+05  1.42e+04 8.49e-03  1.00e+06     0s\n",
            "   1   8.40025986e+04 -8.40226461e+04  1.17e+03 6.99e-04  8.98e+04     0s\n",
            "   2   4.58303863e+02 -4.79531219e+02  3.67e+01 2.18e-05  2.92e+03     0s\n",
            "   3   1.20920923e-03 -2.15415882e+01  4.64e-02 2.76e-08  4.78e+00     0s\n",
            "   4   2.19325489e-04 -6.10420553e+00  1.14e-03 6.77e-10  3.72e-01     0s\n",
            "   5   1.93839433e-04 -2.74615159e+00  1.14e-09 6.80e-16  1.37e-01     0s\n",
            "   6   1.93825292e-04 -2.72870807e-03  7.30e-14 2.79e-14  1.46e-04     0s\n",
            "   7   1.80948712e-04  4.38593608e-05  1.16e-15 4.49e-16  6.85e-06     0s\n",
            "   8   1.40489517e-04  9.58152566e-05  3.82e-17 5.20e-18  2.23e-06     0s\n",
            "   9   1.27126023e-04  1.23717090e-04  6.25e-17 5.20e-18  1.70e-07     0s\n",
            "  10   1.25326282e-04  1.25249534e-04  1.20e-15 3.09e-18  3.84e-09     0s\n",
            "  11   1.25282090e-04  1.25275018e-04  1.97e-14 5.42e-18  3.54e-10     0s\n",
            "\n",
            "Barrier solved model in 11 iterations and 0.04 seconds (0.00 work units)\n",
            "Optimal objective 1.25282090e-04\n",
            "\n",
            "Gurobi Optimizer version 9.5.1 build v9.5.1rc2 (linux64)\n",
            "Thread count: 1 physical cores, 2 logical processors, using up to 2 threads\n",
            "Optimize a model with 2 rows, 20 columns and 40 nonzeros\n",
            "Model fingerprint: 0xa8189b38\n",
            "Model has 210 quadratic objective terms\n",
            "Coefficient statistics:\n",
            "  Matrix range     [7e-05, 1e+00]\n",
            "  Objective range  [0e+00, 0e+00]\n",
            "  QObjective range [1e-05, 3e-03]\n",
            "  Bounds range     [0e+00, 0e+00]\n",
            "  RHS range        [1e-03, 1e+00]\n",
            "Presolve time: 0.01s\n",
            "Presolved: 2 rows, 20 columns, 40 nonzeros\n",
            "Presolved model has 210 quadratic objective terms\n",
            "Ordering time: 0.00s\n",
            "\n",
            "Barrier statistics:\n",
            " Free vars  : 19\n",
            " AA' NZ     : 2.100e+02\n",
            " Factor NZ  : 2.310e+02\n",
            " Factor Ops : 3.311e+03 (less than 1 second per iteration)\n",
            " Threads    : 1\n",
            "\n",
            "                  Objective                Residual\n",
            "Iter       Primal          Dual         Primal    Dual     Compl     Time\n",
            "   0   2.08314103e+05 -2.08314103e+05  1.43e+04 8.73e-03  1.00e+06     0s\n",
            "   1   8.40026294e+04 -8.40225996e+04  1.17e+03 7.19e-04  8.98e+04     0s\n",
            "   2   4.58291965e+02 -4.78988763e+02  3.67e+01 2.25e-05  2.92e+03     0s\n",
            "   3   1.38424868e-03 -2.10025912e+01  5.04e-02 3.08e-08  5.07e+00     0s\n",
            "   4   2.63521572e-04 -4.74479236e+00  3.54e-03 2.17e-09  4.84e-01     0s\n",
            "   5   3.02764334e-04 -4.32943566e+00  3.54e-09 2.17e-15  2.16e-01     0s\n",
            "   6   3.02756747e-04 -4.51707140e-03  4.01e-13 2.94e-13  2.41e-04     0s\n",
            "   7   2.98721823e-04 -2.20619311e-04  4.28e-14 3.17e-14  2.60e-05     0s\n",
            "   8   2.04916912e-04 -2.00222404e-04  1.39e-17 5.55e-17  2.03e-05     0s\n",
            "   9   1.95981096e-04  1.28329695e-04  1.56e-17 6.94e-17  3.38e-06     0s\n",
            "  10   1.78888869e-04  1.44019918e-04  1.54e-16 1.56e-17  1.74e-06     0s\n",
            "  11   1.67026320e-04  1.65046615e-04  2.39e-16 2.08e-17  9.90e-08     0s\n",
            "  12   1.65396161e-04  1.65375772e-04  3.40e-16 1.39e-17  1.02e-09     0s\n",
            "  13   1.65378940e-04  1.65378920e-04  3.66e-16 1.06e-17  1.02e-12     0s\n",
            "\n",
            "Barrier solved model in 13 iterations and 0.05 seconds (0.00 work units)\n",
            "Optimal objective 1.65378940e-04\n",
            "\n",
            "Gurobi Optimizer version 9.5.1 build v9.5.1rc2 (linux64)\n",
            "Thread count: 1 physical cores, 2 logical processors, using up to 2 threads\n",
            "Optimize a model with 2 rows, 20 columns and 40 nonzeros\n",
            "Model fingerprint: 0xeefe22cb\n",
            "Model has 210 quadratic objective terms\n",
            "Coefficient statistics:\n",
            "  Matrix range     [7e-05, 1e+00]\n",
            "  Objective range  [0e+00, 0e+00]\n",
            "  QObjective range [1e-05, 3e-03]\n",
            "  Bounds range     [0e+00, 0e+00]\n",
            "  RHS range        [2e-03, 1e+00]\n",
            "Presolve time: 0.01s\n",
            "Presolved: 2 rows, 20 columns, 40 nonzeros\n",
            "Presolved model has 210 quadratic objective terms\n",
            "Ordering time: 0.00s\n",
            "\n",
            "Barrier statistics:\n",
            " Free vars  : 19\n",
            " AA' NZ     : 2.100e+02\n",
            " Factor NZ  : 2.310e+02\n",
            " Factor Ops : 3.311e+03 (less than 1 second per iteration)\n",
            " Threads    : 1\n",
            "\n",
            "                  Objective                Residual\n",
            "Iter       Primal          Dual         Primal    Dual     Compl     Time\n",
            "   0   2.08316833e+05 -2.08316833e+05  1.42e+04 8.97e-03  1.00e+06     0s\n",
            "   1   8.40026587e+04 -8.40225517e+04  1.17e+03 7.39e-04  8.98e+04     0s\n",
            "   2   4.58280030e+02 -4.78446215e+02  3.67e+01 2.31e-05  2.92e+03     0s\n",
            "   3   1.56403375e-03 -2.04628152e+01  5.39e-02 3.39e-08  5.32e+00     0s\n",
            "   4   3.12870436e-04 -2.74154014e+00  5.68e-03 3.57e-09  5.80e-01     0s\n",
            "   5   3.43191670e-04 -5.20126286e+00  1.86e-03 1.17e-09  3.64e-01     0s\n",
            "   6   3.87555044e-04 -5.47323120e-01  3.37e-06 2.12e-12  2.74e-02     0s\n",
            "   7   3.87639345e-04 -4.71117103e-04  5.28e-09 3.32e-15  4.29e-05     0s\n",
            "   8   3.83561558e-04  5.86846532e-05  1.82e-09 1.14e-15  1.62e-05     0s\n",
            "   9   2.67650704e-04  9.20772702e-05  7.53e-15 5.42e-20  8.78e-06     0s\n",
            "  10   2.45031124e-04  2.29644455e-04  7.04e-16 7.63e-17  7.69e-07     0s\n",
            "  11   2.38372685e-04  2.35356921e-04  4.84e-15 1.39e-17  1.51e-07     0s\n",
            "  12   2.35902357e-04  2.35337524e-04  2.21e-15 1.39e-17  2.82e-08     0s\n",
            "  13   2.35473197e-04  2.35472553e-04  9.19e-16 1.81e-17  3.22e-11     0s\n",
            "\n",
            "Barrier solved model in 13 iterations and 0.05 seconds (0.00 work units)\n",
            "Optimal objective 2.35473197e-04\n",
            "\n",
            "Gurobi Optimizer version 9.5.1 build v9.5.1rc2 (linux64)\n",
            "Thread count: 1 physical cores, 2 logical processors, using up to 2 threads\n",
            "Optimize a model with 2 rows, 20 columns and 40 nonzeros\n",
            "Model fingerprint: 0xbda6610c\n",
            "Model has 210 quadratic objective terms\n",
            "Coefficient statistics:\n",
            "  Matrix range     [7e-05, 1e+00]\n",
            "  Objective range  [0e+00, 0e+00]\n",
            "  QObjective range [1e-05, 3e-03]\n",
            "  Bounds range     [0e+00, 0e+00]\n",
            "  RHS range        [2e-03, 1e+00]\n",
            "Presolve time: 0.01s\n",
            "Presolved: 2 rows, 20 columns, 40 nonzeros\n",
            "Presolved model has 210 quadratic objective terms\n",
            "Ordering time: 0.00s\n",
            "\n",
            "Barrier statistics:\n",
            " Free vars  : 19\n",
            " AA' NZ     : 2.100e+02\n",
            " Factor NZ  : 2.310e+02\n",
            " Factor Ops : 3.311e+03 (less than 1 second per iteration)\n",
            " Threads    : 1\n",
            "\n",
            "                  Objective                Residual\n",
            "Iter       Primal          Dual         Primal    Dual     Compl     Time\n",
            "   0   2.08319563e+05 -2.08319563e+05  1.42e+04 9.21e-03  1.00e+06     0s\n",
            "   1   8.40026874e+04 -8.40225031e+04  1.17e+03 7.59e-04  8.98e+04     0s\n",
            "   2   4.58268085e+02 -4.77903603e+02  3.67e+01 2.37e-05  2.92e+03     0s\n",
            "   3   1.75833970e-03 -1.99215481e+01  5.75e-02 3.72e-08  5.58e+00     0s\n",
            "   4   3.69060416e-04 -7.35588864e-02  7.94e-03 5.13e-09  6.81e-01     0s\n",
            "   5   4.03568635e-04 -3.74153570e+00  3.47e-03 2.24e-09  4.51e-01     0s\n",
            "   6   5.07068572e-04 -4.84168732e-02  3.56e-05 2.30e-11  5.41e-03     0s\n",
            "   7   5.07276479e-04  4.58352551e-04  3.58e-08 2.31e-14  5.43e-06     0s\n",
            "   8   5.07276700e-04  5.07178890e-04  3.58e-11 2.30e-17  7.88e-09     0s\n",
            "   9   5.07276700e-04  5.07276602e-04  1.79e-14 9.09e-13  7.88e-12     0s\n",
            "\n",
            "Barrier solved model in 9 iterations and 0.04 seconds (0.00 work units)\n",
            "Optimal objective 5.07276700e-04\n",
            "\n"
          ]
        }
      ],
      "source": [
        "# Create an expression representing the expected return for the portfolio\n",
        "portfolio_return = mu @ x\n",
        "target = m.addConstr(portfolio_return == minrisk_return, 'target')\n",
        "\n",
        "# Solve for efficient frontier by varying target return\n",
        "frontier = np.empty((2,0))\n",
        "for r in np.linspace(mu.min(), mu.max(), 25):\n",
        "    target[0].rhs = r\n",
        "    m.optimize()\n",
        "    frontier = np.append(frontier, [[sqrt(m.ObjVal)],[r]], axis=1)"
      ]
    },
    {
      "cell_type": "markdown",
      "metadata": {
        "id": "HyCzCNm36sTZ"
      },
      "source": [
        "## Plot results\n",
        "Use the matplot library to plot the optimized solutions, along with the individual stocks:"
      ]
    },
    {
      "cell_type": "code",
      "execution_count": 26,
      "metadata": {
        "colab": {
          "base_uri": "https://localhost:8080/",
          "height": 497
        },
        "id": "zIkTJaKG6sTa",
        "outputId": "9c9a03b9-e7d2-4489-b2f9-4b2d31b99b55"
      },
      "outputs": [
        {
          "output_type": "display_data",
          "data": {
            "text/plain": [
              "<Figure size 720x576 with 1 Axes>"
            ],
            "image/png": "[encoded data removed]"
          },
          "metadata": {
            "needs_background": "light"
          }
        }
      ],
      "source": [
        "import matplotlib.pyplot as plt\n",
        "#plt.figure(figsize=(10,10))\n",
        "\n",
        "fig, ax = plt.subplots(figsize=(10,8))\n",
        "\n",
        "# Plot volatility versus expected return for individual stocks\n",
        "ax.scatter(x=std, y=mu,\n",
        "           color='Blue', label='Individual Stocks')\n",
        "for i, stock in enumerate(stocks):\n",
        "    ax.annotate(stock, (std[i], mu[i]))\n",
        "\n",
        "# Plot volatility versus expected return for minimum risk portfolio\n",
        "ax.scatter(x=minrisk_volatility, y=minrisk_return, color='DarkGreen')\n",
        "ax.annotate('Minimum\\nRisk\\nPortfolio', (minrisk_volatility, minrisk_return),\n",
        "            horizontalalignment='right')\n",
        "\n",
        "# Plot efficient frontier\n",
        "ax.plot(frontier[0], frontier[1], label='Efficient Frontier', color='DarkGreen')\n",
        "\n",
        "# Format and display the final plot\n",
        "ax.axis([frontier[0].min()*0.7, frontier[0].max()*1.3, mu.min()*1.2, mu.max()*1.2])\n",
        "ax.set_xlabel('Volatility (standard deviation)')\n",
        "ax.set_ylabel('Expected Return')\n",
        "ax.legend()\n",
        "ax.grid()\n",
        "plt.show()"
      ]
    }
  ],
  "metadata": {
    "kernelspec": {
      "display_name": "Python 3 (ipykernel)",
      "language": "python",
      "name": "python3"
    },
    "language_info": {
      "codemirror_mode": {
        "name": "ipython",
        "version": 3
      },
      "file_extension": ".py",
      "mimetype": "text/x-python",
      "name": "python",
      "nbconvert_exporter": "python",
      "pygments_lexer": "ipython3",
      "version": "3.9.6"
    },
    "colab": {
      "name": "CF 969 Lab4 07022022 - Optimisation.ipynb",
      "provenance": [],
      "include_colab_link": true
    }
  },
  "nbformat": 4,
  "nbformat_minor": 0
}